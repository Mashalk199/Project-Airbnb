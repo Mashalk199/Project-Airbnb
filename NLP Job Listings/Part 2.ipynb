{
 "cells": [
  {
   "cell_type": "markdown",
   "metadata": {},
   "source": [
    "# Assignment 2: Milestone I Natural Language Processing\n",
    "## Task 2&3\n",
    "#### Student Name: Mashal Khan\n",
    "#### Student ID: 3906303\n",
    "\n",
    "Date: XXXX\n",
    "\n",
    "Version: 1.0\n",
    "\n",
    "Environment: Python 3 and Jupyter notebook\n",
    "\n",
    "Libraries used: please include all the libraries you used in your assignment, e.g.,:\n",
    "* pandas\n",
    "* re\n",
    "* numpy\n",
    "* nltk\n",
    "* itertools\n",
    "\n",
    "## Introduction\n",
    "You should give a brief information of this assessment task here.\n",
    "\n",
    "<span style=\"color: red\"> Note that this is a sample notebook only. You will need to fill in the proper markdown and code blocks. You might also want to make necessary changes to the structure to meet your own needs. Note also that any generic comments written in this notebook are to be removed and replace with your own words.</span>"
   ]
  },
  {
   "cell_type": "markdown",
   "metadata": {},
   "source": [
    "Here we the default seed for random functions"
   ]
  },
  {
   "cell_type": "code",
   "execution_count": 1,
   "metadata": {},
   "outputs": [],
   "source": [
    "seed = 0"
   ]
  },
  {
   "cell_type": "markdown",
   "metadata": {},
   "source": [
    "## Importing libraries "
   ]
  },
  {
   "cell_type": "code",
   "execution_count": 2,
   "metadata": {},
   "outputs": [],
   "source": [
    "# Code to import libraries as you need in this assessment, e.g.,\n",
    "import numpy as np\n",
    "import pandas as pd\n",
    "import pickle\n",
    "\n",
    "import matplotlib.pyplot as plt\n",
    "import seaborn as sns\n",
    "import re\n",
    "import os\n",
    "import nltk\n",
    "from __future__ import division\n",
    "from itertools import chain\n",
    "from nltk.probability import FreqDist\n",
    "from sklearn.feature_extraction.text import CountVectorizer\n",
    "from sklearn.feature_extraction.text import TfidfVectorizer\n",
    "from sklearn.model_selection import train_test_split\n",
    "from sklearn.linear_model import LogisticRegression\n",
    "from sklearn.metrics import confusion_matrix\n",
    "from sklearn.model_selection import KFold\n",
    "\n",
    "from sklearn.manifold import TSNE\n",
    "\n",
    "from gensim.models.fasttext import FastText"
   ]
  },
  {
   "cell_type": "markdown",
   "metadata": {},
   "source": [
    "## Task 2. Generating Feature Representations for Job Advertisement Descriptions"
   ]
  },
  {
   "cell_type": "markdown",
   "metadata": {},
   "source": [
    "...... Sections and code blocks on buidling different document feature represetations\n",
    "\n",
    "\n",
    "<span style=\"color: red\"> You might have complex notebook structure in this section, please feel free to create your own notebook structure. </span>"
   ]
  },
  {
   "cell_type": "markdown",
   "metadata": {},
   "source": [
    "#### Reading data from the files"
   ]
  },
  {
   "cell_type": "code",
   "execution_count": 3,
   "metadata": {},
   "outputs": [],
   "source": [
    "# Code to perform the task...\n",
    "descriptions = []\n",
    "vocab = []\n",
    "with open('tokenised_descriptions.txt','r') as f:\n",
    "    for desc in f.readlines():\n",
    "        descriptions.append(desc.replace('\\n',''))\n",
    "with open('vocab.txt','r') as f:\n",
    "    for word in f.readlines():\n",
    "        seg = word.split(':')\n",
    "        vocab.append((seg[0],seg[1].replace('\\n','')))"
   ]
  },
  {
   "cell_type": "code",
   "execution_count": 4,
   "metadata": {},
   "outputs": [],
   "source": [
    "i = 0\n",
    "titles = []\n",
    "wid = []\n",
    "companies = []\n",
    "job_ids=[]\n",
    "job_txts = []\n",
    "with open('extra.tsv','r',encoding=\"utf-8\") as f:\n",
    "    for job in f.readlines():\n",
    "        chunk = job.split('\\t')\n",
    "        job_ids.append(chunk[0])\n",
    "        titles.append(chunk[1])\n",
    "        wid.append(chunk[2])\n",
    "        companies.append(chunk[3])\n",
    "        job_txts.append(chunk[4])"
   ]
  },
  {
   "cell_type": "markdown",
   "metadata": {},
   "source": [
    "Here we cross check with the real file to verify the correct ordering:"
   ]
  },
  {
   "cell_type": "code",
   "execution_count": 5,
   "metadata": {},
   "outputs": [
    {
     "data": {
      "text/plain": [
       "'Registered General Nurse  Days Stockport **** per hour Full or part time hours available This 24 bed nursing home for older people is currently recruiting for a Registered General Nurse to join its nursing team. The home is based in central Stockport As Registered General Nurse, you will lead a care team and assist the management team in the delivery of person centred care. The home is on the Gold Standards Framework and follows the Liverpool Care Pathway. Key duties will include care planning, administering medication and adhering to the standards set by the company and CQC. You will be RGN qualified with an active NMC pin. You will ideally have previous care home and end of life care experience. The hourly rate for this role is **** per hour, and there are full and part time hours available The home is in central Stockport on the main route to Manchester, so the public transport is excellent. This job was originally posted as www.totaljobs.com/JobSeeking/RegisteredGeneralNurse_job****\\n'"
      ]
     },
     "execution_count": 5,
     "metadata": {},
     "output_type": "execute_result"
    }
   ],
   "source": [
    "job_txts[422]"
   ]
  },
  {
   "cell_type": "markdown",
   "metadata": {},
   "source": [
    "We use this method stats_print() to verify the data was transported correctly from the task 1 notebook file."
   ]
  },
  {
   "cell_type": "code",
   "execution_count": 6,
   "metadata": {},
   "outputs": [],
   "source": [
    "def stats_print(tokenised_jobs):\n",
    "    words = list(chain.from_iterable(tokenised_jobs)) # use chain to flatten or put all the tokens in the corpus in a single list\n",
    "    vocab = set(words) # create the set of types for the tokens i.e the vocabulary by applying the set method to get rid of duplicates.\n",
    "    lexical_diversity = len(vocab)/len(words) # proportion of uniwue words to all words; how diverse all of the tokens are in the dataset\n",
    "    print(\"Vocabulary size: \",len(vocab))\n",
    "    print(\"Total number of tokens: \", len(words))\n",
    "    print(\"Lexical diversity: \", lexical_diversity)\n",
    "    print(\"Total number of articles:\", len(tokenised_jobs))\n",
    "    lens = [len(job) for job in tokenised_jobs]\n",
    "    print(\"Average document length:\", np.mean(lens))\n",
    "    print(\"Maximum document length:\", np.max(lens))\n",
    "    print(\"Minimum document length:\", np.min(lens))\n",
    "    print(\"Standard deviation of document length:\", np.std(lens))"
   ]
  },
  {
   "cell_type": "markdown",
   "metadata": {},
   "source": [
    "We can see from the stats_print output below that we read the data correctly from the file."
   ]
  },
  {
   "cell_type": "code",
   "execution_count": 7,
   "metadata": {},
   "outputs": [
    {
     "name": "stdout",
     "output_type": "stream",
     "text": [
      "Vocabulary size:  4711\n",
      "Total number of tokens:  80007\n",
      "Lexical diversity:  0.058882347794567975\n",
      "Total number of articles: 776\n",
      "Average document length: 103.10180412371135\n",
      "Maximum document length: 401\n",
      "Minimum document length: 7\n",
      "Standard deviation of document length: 57.553504437469286\n"
     ]
    }
   ],
   "source": [
    "tokenised_jobs = [desc.split() for desc in descriptions]  # list comprehension, generate a list of tokenized job descriptions\n",
    "stats_print(tokenised_jobs)"
   ]
  },
  {
   "cell_type": "markdown",
   "metadata": {},
   "source": [
    "Here we set up the tokens and vocabulary for later use:"
   ]
  },
  {
   "cell_type": "code",
   "execution_count": 8,
   "metadata": {},
   "outputs": [],
   "source": [
    "words = list(chain.from_iterable(tokenised_jobs)) # use chain to flatten or put all the tokens in the corpus in a single list\n",
    "vocab2 = set(words) # We create a voccabulary from the tokenised jobs, \n",
    "# to verify that the vocabulary saved to the file inside the vocab variable is correct."
   ]
  },
  {
   "cell_type": "code",
   "execution_count": 9,
   "metadata": {},
   "outputs": [
    {
     "data": {
      "text/plain": [
       "set()"
      ]
     },
     "execution_count": 9,
     "metadata": {},
     "output_type": "execute_result"
    }
   ],
   "source": [
    "vocab_set = set([word[0] for word in vocab])\n",
    "\n",
    "set(sorted(vocab2)) - set([word[0] for word in vocab]) # Checks if the vocabulary matches"
   ]
  },
  {
   "cell_type": "markdown",
   "metadata": {},
   "source": [
    "## Count Vector creation\n",
    "Here we create the count vector for all documents in the corpus"
   ]
  },
  {
   "cell_type": "code",
   "execution_count": 107,
   "metadata": {},
   "outputs": [],
   "source": [
    "count_vectorizer = CountVectorizer(vocabulary = vocab_set) # initialise the CountVectorizer\n",
    "count_matrix = count_vectorizer.fit_transform([' '.join(desc) for desc in tokenised_jobs])"
   ]
  },
  {
   "cell_type": "markdown",
   "metadata": {},
   "source": [
    "We use the below method from the activity 3 notebook to verify whether our count vectorization is correct. We test with a random sample."
   ]
  },
  {
   "cell_type": "code",
   "execution_count": 11,
   "metadata": {},
   "outputs": [],
   "source": [
    "def validator(data_features, vocab, a_ind, job_ids,job_txts,tokenised_jobs):\n",
    "    print(\"Job ID:\", job_ids[a_ind]) # print out the Article ID\n",
    "    print(\"--------------------------------------------\")\n",
    "    print(\"Job txt:\",job_txts[a_ind]) # print out the txt of the article\n",
    "    print(\"Job tokens:\",tokenised_jobs[a_ind]) # print out the tokens of the article\n",
    "    print(\"--------------------------------------------\\n\")\n",
    "    print(\"Vector representation:\\n\") # printing the vector representation as format 'word:value' (\n",
    "                                      # the value is 0 or 1 in for binary vector; an integer for count vector; and a float value for tfidf\n",
    "\n",
    "    for word, value in zip(vocab, data_features.toarray()[a_ind]): \n",
    "        if value > 0:\n",
    "            print(word+\":\"+str(value), end =' ')"
   ]
  },
  {
   "cell_type": "code",
   "execution_count": 12,
   "metadata": {},
   "outputs": [
    {
     "name": "stdout",
     "output_type": "stream",
     "text": [
      "Job ID: 00030\n",
      "--------------------------------------------\n",
      "Job txt: Senior Electrical Engineer Plymouth Ref MR**** Salary ****k As one of the largest and most renowned firms of its kind, our client prides itself on its wealth of knowledge and indepth understanding of the industry. With a reputation for unique solutions and clever design, our client is continually striving to stay at the forefront of modern technology. Employees can expect to work in an open, honest and friendly environment where teamwork and knowledge contribution are actively encouraged. Our client is currently looking for enthusiastic new individuals to join the team. Suitable Qualifications: Educated to a degree level in electrical engineering or a similar relevant discipline Actively working towards chartered status Have a comprehensive understanding of Building Services Engineering Strong communication skills (both written and verbal)  Work well as part of a team Duties: Working alongside the executive electrical engineer, successful candidates will be expected to take briefs and support and produce designs for a wide variety of projects. Quickly respond to clients needs with imagination and passion in order to deliver above and beyond client expectations in order to maintain high levels of quality and professionalism. Experience: Suitable candidates will have previous experience in the design of relevant electrical systems such as: Fire detection Lighting and design Security Controls and Building Management Systems Ideally candidates will have previous experience of working in a building services or sustainability sector Rewards and Benefits: My client is offering a highly competitive start up salary of ****k as well as a very healthy benefits package including; Contributory pension scheme Private health care Permanent health insurance Comprehensive flexible benefits scheme To discuss this vacancy and other positions within the environmental sector, please do not hesitate to contact MIKAELA RABAIOTTI on **** **** or email your CV to mikaela.rabaiottipenguinrecruitment.co.uk and we will get back to you.\n",
      "\n",
      "Job tokens: ['senior', 'electrical', 'engineer', 'plymouth', 'ref', 'largest', 'renowned', 'firms', 'kind', 'prides', 'wealth', 'indepth', 'understanding', 'industry', 'reputation', 'unique', 'solutions', 'design', 'continually', 'striving', 'stay', 'forefront', 'modern', 'technology', 'employees', 'expect', 'open', 'honest', 'friendly', 'environment', 'teamwork', 'contribution', 'actively', 'encouraged', 'enthusiastic', 'individuals', 'suitable', 'qualifications', 'educated', 'degree', 'level', 'electrical', 'engineering', 'similar', 'relevant', 'discipline', 'actively', 'chartered', 'status', 'comprehensive', 'understanding', 'building', 'engineering', 'communication', 'written', 'verbal', 'part', 'duties', 'alongside', 'executive', 'electrical', 'engineer', 'candidates', 'expected', 'briefs', 'produce', 'designs', 'wide', 'variety', 'projects', 'quickly', 'respond', 'passion', 'order', 'deliver', 'expectations', 'order', 'maintain', 'levels', 'quality', 'professionalism', 'suitable', 'candidates', 'previous', 'design', 'relevant', 'electrical', 'systems', 'fire', 'detection', 'lighting', 'design', 'security', 'controls', 'building', 'systems', 'ideally', 'candidates', 'previous', 'building', 'sustainability', 'sector', 'rewards', 'offering', 'highly', 'competitive', 'start', 'healthy', 'package', 'contributory', 'pension', 'scheme', 'private', 'health', 'care', 'permanent', 'health', 'insurance', 'comprehensive', 'flexible', 'scheme', 'discuss', 'vacancy', 'positions', 'environmental', 'sector', 'hesitate', 'email', 'back']\n",
      "--------------------------------------------\n",
      "\n",
      "Vector representation:\n",
      "\n",
      "actively:2 alongside:1 back:1 briefs:1 building:3 candidates:3 care:1 chartered:1 communication:1 competitive:1 comprehensive:2 continually:1 contribution:1 contributory:1 controls:1 degree:1 deliver:1 design:3 designs:1 detection:1 discipline:1 discuss:1 duties:1 educated:1 electrical:4 email:1 employees:1 encouraged:1 engineer:2 engineering:2 enthusiastic:1 environment:1 environmental:1 executive:1 expect:1 expectations:1 expected:1 fire:1 firms:1 flexible:1 forefront:1 friendly:1 health:2 healthy:1 hesitate:1 highly:1 honest:1 ideally:1 indepth:1 individuals:1 industry:1 insurance:1 kind:1 largest:1 level:1 levels:1 lighting:1 maintain:1 modern:1 offering:1 open:1 order:2 package:1 part:1 passion:1 pension:1 permanent:1 plymouth:1 positions:1 previous:2 prides:1 private:1 produce:1 professionalism:1 projects:1 qualifications:1 quality:1 quickly:1 ref:1 relevant:2 renowned:1 reputation:1 respond:1 rewards:1 scheme:2 sector:2 security:1 senior:1 similar:1 solutions:1 start:1 status:1 stay:1 striving:1 suitable:2 sustainability:1 systems:2 teamwork:1 technology:1 understanding:2 unique:1 vacancy:1 variety:1 verbal:1 wealth:1 wide:1 written:1 "
     ]
    }
   ],
   "source": [
    "test_ind = 29\n",
    "vocab_set = sorted(list(vocab_set)) # Converts back to sorted list of tokens\n",
    "validator(count_matrix,vocab_set,test_ind,job_ids,job_txts,tokenised_jobs)"
   ]
  },
  {
   "cell_type": "markdown",
   "metadata": {},
   "source": [
    "We can see the frequency-value pairs are correct from the code below, as it matches the output above."
   ]
  },
  {
   "cell_type": "code",
   "execution_count": 13,
   "metadata": {},
   "outputs": [
    {
     "name": "stdout",
     "output_type": "stream",
     "text": [
      "[('electrical', 4), ('design', 3), ('building', 3), ('candidates', 3), ('engineer', 2), ('understanding', 2), ('actively', 2), ('suitable', 2), ('engineering', 2), ('relevant', 2), ('comprehensive', 2), ('order', 2), ('previous', 2), ('systems', 2), ('sector', 2), ('scheme', 2), ('health', 2), ('senior', 1), ('plymouth', 1), ('ref', 1), ('largest', 1), ('renowned', 1), ('firms', 1), ('kind', 1), ('prides', 1), ('wealth', 1), ('indepth', 1), ('industry', 1), ('reputation', 1), ('unique', 1), ('solutions', 1), ('continually', 1), ('striving', 1), ('stay', 1), ('forefront', 1), ('modern', 1), ('technology', 1), ('employees', 1), ('expect', 1), ('open', 1), ('honest', 1), ('friendly', 1), ('environment', 1), ('teamwork', 1), ('contribution', 1), ('encouraged', 1), ('enthusiastic', 1), ('individuals', 1), ('qualifications', 1), ('educated', 1), ('degree', 1), ('level', 1), ('similar', 1), ('discipline', 1), ('chartered', 1), ('status', 1), ('communication', 1), ('written', 1), ('verbal', 1), ('part', 1), ('duties', 1), ('alongside', 1), ('executive', 1), ('expected', 1), ('briefs', 1), ('produce', 1), ('designs', 1), ('wide', 1), ('variety', 1), ('projects', 1), ('quickly', 1), ('respond', 1), ('passion', 1), ('deliver', 1), ('expectations', 1), ('maintain', 1), ('levels', 1), ('quality', 1), ('professionalism', 1), ('fire', 1), ('detection', 1), ('lighting', 1), ('security', 1), ('controls', 1), ('ideally', 1), ('sustainability', 1), ('rewards', 1), ('offering', 1), ('highly', 1), ('competitive', 1), ('start', 1), ('healthy', 1), ('package', 1), ('contributory', 1), ('pension', 1), ('private', 1), ('care', 1), ('permanent', 1), ('insurance', 1), ('flexible', 1), ('discuss', 1), ('vacancy', 1), ('positions', 1), ('environmental', 1), ('hesitate', 1), ('email', 1), ('back', 1)]\n"
     ]
    }
   ],
   "source": [
    "print(FreqDist(tokenised_jobs[test_ind]).most_common())"
   ]
  },
  {
   "cell_type": "markdown",
   "metadata": {},
   "source": [
    "###### We convert the vectors to a dataframe to use for later."
   ]
  },
  {
   "cell_type": "code",
   "execution_count": 14,
   "metadata": {},
   "outputs": [
    {
     "data": {
      "text/plain": [
       "control          14\n",
       "systems          12\n",
       "equipment        11\n",
       "engineering       5\n",
       "controls          4\n",
       "                 ..\n",
       "perioperative     0\n",
       "perm              0\n",
       "permanent         0\n",
       "permission        0\n",
       "aaron             0\n",
       "Name: 45, Length: 4711, dtype: int64"
      ]
     },
     "execution_count": 14,
     "metadata": {},
     "output_type": "execute_result"
    }
   ],
   "source": [
    "# Convert count vector sparse matrix to dataframe\n",
    "count_df = pd.DataFrame(count_matrix.toarray().transpose(),\n",
    "                   index=count_vectorizer.get_feature_names())\n",
    "count_df[45].sort_values(ascending=False)"
   ]
  },
  {
   "cell_type": "markdown",
   "metadata": {},
   "source": [
    "## TF-IDF vector creation\n",
    "Same process for TF-IDF vectorization... We will use these objects later for our word-embedding and document vectorization."
   ]
  },
  {
   "cell_type": "code",
   "execution_count": 15,
   "metadata": {},
   "outputs": [],
   "source": [
    "tfidf_vectorizer = TfidfVectorizer(vocabulary = vocab_set) # initialise the TfidfVectorizer\n",
    "tfidf_matrix = tfidf_vectorizer.fit_transform([' '.join(desc) for desc in tokenised_jobs])"
   ]
  },
  {
   "cell_type": "code",
   "execution_count": 16,
   "metadata": {},
   "outputs": [
    {
     "data": {
      "text/plain": [
       "aaron            0.000000\n",
       "permission       0.000000\n",
       "permanent        0.000000\n",
       "perm             0.000000\n",
       "perioperative    0.000000\n",
       "                   ...   \n",
       "reliability      0.167053\n",
       "validation       0.209597\n",
       "systems          0.342218\n",
       "equipment        0.374304\n",
       "control          0.453779\n",
       "Name: 45, Length: 4711, dtype: float64"
      ]
     },
     "execution_count": 16,
     "metadata": {},
     "output_type": "execute_result"
    }
   ],
   "source": [
    "tfidf_df = pd.DataFrame(tfidf_matrix.toarray().transpose(),\n",
    "                   index=tfidf_vectorizer.get_feature_names())\n",
    "tfidf_df[45].sort_values(ascending=True)"
   ]
  },
  {
   "cell_type": "markdown",
   "metadata": {},
   "source": [
    "We can see rows represent the vocabulary and columns are the document indices."
   ]
  },
  {
   "cell_type": "code",
   "execution_count": 17,
   "metadata": {},
   "outputs": [
    {
     "data": {
      "text/html": [
       "<div>\n",
       "<style scoped>\n",
       "    .dataframe tbody tr th:only-of-type {\n",
       "        vertical-align: middle;\n",
       "    }\n",
       "\n",
       "    .dataframe tbody tr th {\n",
       "        vertical-align: top;\n",
       "    }\n",
       "\n",
       "    .dataframe thead th {\n",
       "        text-align: right;\n",
       "    }\n",
       "</style>\n",
       "<table border=\"1\" class=\"dataframe\">\n",
       "  <thead>\n",
       "    <tr style=\"text-align: right;\">\n",
       "      <th></th>\n",
       "      <th>0</th>\n",
       "      <th>1</th>\n",
       "      <th>2</th>\n",
       "      <th>3</th>\n",
       "      <th>4</th>\n",
       "      <th>5</th>\n",
       "      <th>6</th>\n",
       "      <th>7</th>\n",
       "      <th>8</th>\n",
       "      <th>9</th>\n",
       "      <th>...</th>\n",
       "      <th>766</th>\n",
       "      <th>767</th>\n",
       "      <th>768</th>\n",
       "      <th>769</th>\n",
       "      <th>770</th>\n",
       "      <th>771</th>\n",
       "      <th>772</th>\n",
       "      <th>773</th>\n",
       "      <th>774</th>\n",
       "      <th>775</th>\n",
       "    </tr>\n",
       "  </thead>\n",
       "  <tbody>\n",
       "    <tr>\n",
       "      <th>aaron</th>\n",
       "      <td>0.0</td>\n",
       "      <td>0.0</td>\n",
       "      <td>0.0</td>\n",
       "      <td>0.0</td>\n",
       "      <td>0.0</td>\n",
       "      <td>0.0</td>\n",
       "      <td>0.0</td>\n",
       "      <td>0.0</td>\n",
       "      <td>0.0</td>\n",
       "      <td>0.0</td>\n",
       "      <td>...</td>\n",
       "      <td>0.0</td>\n",
       "      <td>0.0</td>\n",
       "      <td>0.0</td>\n",
       "      <td>0.0</td>\n",
       "      <td>0.0</td>\n",
       "      <td>0.000000</td>\n",
       "      <td>0.000000</td>\n",
       "      <td>0.0</td>\n",
       "      <td>0.0</td>\n",
       "      <td>0.0</td>\n",
       "    </tr>\n",
       "    <tr>\n",
       "      <th>aat</th>\n",
       "      <td>0.0</td>\n",
       "      <td>0.0</td>\n",
       "      <td>0.0</td>\n",
       "      <td>0.0</td>\n",
       "      <td>0.0</td>\n",
       "      <td>0.0</td>\n",
       "      <td>0.0</td>\n",
       "      <td>0.0</td>\n",
       "      <td>0.0</td>\n",
       "      <td>0.0</td>\n",
       "      <td>...</td>\n",
       "      <td>0.0</td>\n",
       "      <td>0.0</td>\n",
       "      <td>0.0</td>\n",
       "      <td>0.0</td>\n",
       "      <td>0.0</td>\n",
       "      <td>0.000000</td>\n",
       "      <td>0.000000</td>\n",
       "      <td>0.0</td>\n",
       "      <td>0.0</td>\n",
       "      <td>0.0</td>\n",
       "    </tr>\n",
       "    <tr>\n",
       "      <th>abb</th>\n",
       "      <td>0.0</td>\n",
       "      <td>0.0</td>\n",
       "      <td>0.0</td>\n",
       "      <td>0.0</td>\n",
       "      <td>0.0</td>\n",
       "      <td>0.0</td>\n",
       "      <td>0.0</td>\n",
       "      <td>0.0</td>\n",
       "      <td>0.0</td>\n",
       "      <td>0.0</td>\n",
       "      <td>...</td>\n",
       "      <td>0.0</td>\n",
       "      <td>0.0</td>\n",
       "      <td>0.0</td>\n",
       "      <td>0.0</td>\n",
       "      <td>0.0</td>\n",
       "      <td>0.000000</td>\n",
       "      <td>0.000000</td>\n",
       "      <td>0.0</td>\n",
       "      <td>0.0</td>\n",
       "      <td>0.0</td>\n",
       "    </tr>\n",
       "    <tr>\n",
       "      <th>aberdeen</th>\n",
       "      <td>0.0</td>\n",
       "      <td>0.0</td>\n",
       "      <td>0.0</td>\n",
       "      <td>0.0</td>\n",
       "      <td>0.0</td>\n",
       "      <td>0.0</td>\n",
       "      <td>0.0</td>\n",
       "      <td>0.0</td>\n",
       "      <td>0.0</td>\n",
       "      <td>0.0</td>\n",
       "      <td>...</td>\n",
       "      <td>0.0</td>\n",
       "      <td>0.0</td>\n",
       "      <td>0.0</td>\n",
       "      <td>0.0</td>\n",
       "      <td>0.0</td>\n",
       "      <td>0.000000</td>\n",
       "      <td>0.000000</td>\n",
       "      <td>0.0</td>\n",
       "      <td>0.0</td>\n",
       "      <td>0.0</td>\n",
       "    </tr>\n",
       "    <tr>\n",
       "      <th>abi</th>\n",
       "      <td>0.0</td>\n",
       "      <td>0.0</td>\n",
       "      <td>0.0</td>\n",
       "      <td>0.0</td>\n",
       "      <td>0.0</td>\n",
       "      <td>0.0</td>\n",
       "      <td>0.0</td>\n",
       "      <td>0.0</td>\n",
       "      <td>0.0</td>\n",
       "      <td>0.0</td>\n",
       "      <td>...</td>\n",
       "      <td>0.0</td>\n",
       "      <td>0.0</td>\n",
       "      <td>0.0</td>\n",
       "      <td>0.0</td>\n",
       "      <td>0.0</td>\n",
       "      <td>0.000000</td>\n",
       "      <td>0.000000</td>\n",
       "      <td>0.0</td>\n",
       "      <td>0.0</td>\n",
       "      <td>0.0</td>\n",
       "    </tr>\n",
       "    <tr>\n",
       "      <th>...</th>\n",
       "      <td>...</td>\n",
       "      <td>...</td>\n",
       "      <td>...</td>\n",
       "      <td>...</td>\n",
       "      <td>...</td>\n",
       "      <td>...</td>\n",
       "      <td>...</td>\n",
       "      <td>...</td>\n",
       "      <td>...</td>\n",
       "      <td>...</td>\n",
       "      <td>...</td>\n",
       "      <td>...</td>\n",
       "      <td>...</td>\n",
       "      <td>...</td>\n",
       "      <td>...</td>\n",
       "      <td>...</td>\n",
       "      <td>...</td>\n",
       "      <td>...</td>\n",
       "      <td>...</td>\n",
       "      <td>...</td>\n",
       "      <td>...</td>\n",
       "    </tr>\n",
       "    <tr>\n",
       "      <th>yorkshire</th>\n",
       "      <td>0.0</td>\n",
       "      <td>0.0</td>\n",
       "      <td>0.0</td>\n",
       "      <td>0.0</td>\n",
       "      <td>0.0</td>\n",
       "      <td>0.0</td>\n",
       "      <td>0.0</td>\n",
       "      <td>0.0</td>\n",
       "      <td>0.0</td>\n",
       "      <td>0.0</td>\n",
       "      <td>...</td>\n",
       "      <td>0.0</td>\n",
       "      <td>0.0</td>\n",
       "      <td>0.0</td>\n",
       "      <td>0.0</td>\n",
       "      <td>0.0</td>\n",
       "      <td>0.071969</td>\n",
       "      <td>0.115670</td>\n",
       "      <td>0.0</td>\n",
       "      <td>0.0</td>\n",
       "      <td>0.0</td>\n",
       "    </tr>\n",
       "    <tr>\n",
       "      <th>young</th>\n",
       "      <td>0.0</td>\n",
       "      <td>0.0</td>\n",
       "      <td>0.0</td>\n",
       "      <td>0.0</td>\n",
       "      <td>0.0</td>\n",
       "      <td>0.0</td>\n",
       "      <td>0.0</td>\n",
       "      <td>0.0</td>\n",
       "      <td>0.0</td>\n",
       "      <td>0.0</td>\n",
       "      <td>...</td>\n",
       "      <td>0.0</td>\n",
       "      <td>0.0</td>\n",
       "      <td>0.0</td>\n",
       "      <td>0.0</td>\n",
       "      <td>0.0</td>\n",
       "      <td>0.000000</td>\n",
       "      <td>0.125841</td>\n",
       "      <td>0.0</td>\n",
       "      <td>0.0</td>\n",
       "      <td>0.0</td>\n",
       "    </tr>\n",
       "    <tr>\n",
       "      <th>younger</th>\n",
       "      <td>0.0</td>\n",
       "      <td>0.0</td>\n",
       "      <td>0.0</td>\n",
       "      <td>0.0</td>\n",
       "      <td>0.0</td>\n",
       "      <td>0.0</td>\n",
       "      <td>0.0</td>\n",
       "      <td>0.0</td>\n",
       "      <td>0.0</td>\n",
       "      <td>0.0</td>\n",
       "      <td>...</td>\n",
       "      <td>0.0</td>\n",
       "      <td>0.0</td>\n",
       "      <td>0.0</td>\n",
       "      <td>0.0</td>\n",
       "      <td>0.0</td>\n",
       "      <td>0.000000</td>\n",
       "      <td>0.000000</td>\n",
       "      <td>0.0</td>\n",
       "      <td>0.0</td>\n",
       "      <td>0.0</td>\n",
       "    </tr>\n",
       "    <tr>\n",
       "      <th>yrs</th>\n",
       "      <td>0.0</td>\n",
       "      <td>0.0</td>\n",
       "      <td>0.0</td>\n",
       "      <td>0.0</td>\n",
       "      <td>0.0</td>\n",
       "      <td>0.0</td>\n",
       "      <td>0.0</td>\n",
       "      <td>0.0</td>\n",
       "      <td>0.0</td>\n",
       "      <td>0.0</td>\n",
       "      <td>...</td>\n",
       "      <td>0.0</td>\n",
       "      <td>0.0</td>\n",
       "      <td>0.0</td>\n",
       "      <td>0.0</td>\n",
       "      <td>0.0</td>\n",
       "      <td>0.000000</td>\n",
       "      <td>0.000000</td>\n",
       "      <td>0.0</td>\n",
       "      <td>0.0</td>\n",
       "      <td>0.0</td>\n",
       "    </tr>\n",
       "    <tr>\n",
       "      <th>zest</th>\n",
       "      <td>0.0</td>\n",
       "      <td>0.0</td>\n",
       "      <td>0.0</td>\n",
       "      <td>0.0</td>\n",
       "      <td>0.0</td>\n",
       "      <td>0.0</td>\n",
       "      <td>0.0</td>\n",
       "      <td>0.0</td>\n",
       "      <td>0.0</td>\n",
       "      <td>0.0</td>\n",
       "      <td>...</td>\n",
       "      <td>0.0</td>\n",
       "      <td>0.0</td>\n",
       "      <td>0.0</td>\n",
       "      <td>0.0</td>\n",
       "      <td>0.0</td>\n",
       "      <td>0.000000</td>\n",
       "      <td>0.000000</td>\n",
       "      <td>0.0</td>\n",
       "      <td>0.0</td>\n",
       "      <td>0.0</td>\n",
       "    </tr>\n",
       "  </tbody>\n",
       "</table>\n",
       "<p>4711 rows × 776 columns</p>\n",
       "</div>"
      ],
      "text/plain": [
       "           0    1    2    3    4    5    6    7    8    9    ...  766  767  \\\n",
       "aaron      0.0  0.0  0.0  0.0  0.0  0.0  0.0  0.0  0.0  0.0  ...  0.0  0.0   \n",
       "aat        0.0  0.0  0.0  0.0  0.0  0.0  0.0  0.0  0.0  0.0  ...  0.0  0.0   \n",
       "abb        0.0  0.0  0.0  0.0  0.0  0.0  0.0  0.0  0.0  0.0  ...  0.0  0.0   \n",
       "aberdeen   0.0  0.0  0.0  0.0  0.0  0.0  0.0  0.0  0.0  0.0  ...  0.0  0.0   \n",
       "abi        0.0  0.0  0.0  0.0  0.0  0.0  0.0  0.0  0.0  0.0  ...  0.0  0.0   \n",
       "...        ...  ...  ...  ...  ...  ...  ...  ...  ...  ...  ...  ...  ...   \n",
       "yorkshire  0.0  0.0  0.0  0.0  0.0  0.0  0.0  0.0  0.0  0.0  ...  0.0  0.0   \n",
       "young      0.0  0.0  0.0  0.0  0.0  0.0  0.0  0.0  0.0  0.0  ...  0.0  0.0   \n",
       "younger    0.0  0.0  0.0  0.0  0.0  0.0  0.0  0.0  0.0  0.0  ...  0.0  0.0   \n",
       "yrs        0.0  0.0  0.0  0.0  0.0  0.0  0.0  0.0  0.0  0.0  ...  0.0  0.0   \n",
       "zest       0.0  0.0  0.0  0.0  0.0  0.0  0.0  0.0  0.0  0.0  ...  0.0  0.0   \n",
       "\n",
       "           768  769  770       771       772  773  774  775  \n",
       "aaron      0.0  0.0  0.0  0.000000  0.000000  0.0  0.0  0.0  \n",
       "aat        0.0  0.0  0.0  0.000000  0.000000  0.0  0.0  0.0  \n",
       "abb        0.0  0.0  0.0  0.000000  0.000000  0.0  0.0  0.0  \n",
       "aberdeen   0.0  0.0  0.0  0.000000  0.000000  0.0  0.0  0.0  \n",
       "abi        0.0  0.0  0.0  0.000000  0.000000  0.0  0.0  0.0  \n",
       "...        ...  ...  ...       ...       ...  ...  ...  ...  \n",
       "yorkshire  0.0  0.0  0.0  0.071969  0.115670  0.0  0.0  0.0  \n",
       "young      0.0  0.0  0.0  0.000000  0.125841  0.0  0.0  0.0  \n",
       "younger    0.0  0.0  0.0  0.000000  0.000000  0.0  0.0  0.0  \n",
       "yrs        0.0  0.0  0.0  0.000000  0.000000  0.0  0.0  0.0  \n",
       "zest       0.0  0.0  0.0  0.000000  0.000000  0.0  0.0  0.0  \n",
       "\n",
       "[4711 rows x 776 columns]"
      ]
     },
     "execution_count": 17,
     "metadata": {},
     "output_type": "execute_result"
    }
   ],
   "source": [
    "tfidf_df"
   ]
  },
  {
   "cell_type": "markdown",
   "metadata": {},
   "source": [
    "## FastText word embedding"
   ]
  },
  {
   "cell_type": "code",
   "execution_count": 18,
   "metadata": {},
   "outputs": [
    {
     "name": "stdout",
     "output_type": "stream",
     "text": [
      "FastText<vocab=2709, vector_size=100, alpha=0.025>\n"
     ]
    }
   ],
   "source": [
    "ft_model = FastText(vector_size=100)  # instantiate the FastText model and vector size of 100\n",
    "ft_model.build_vocab(corpus_iterable=tokenised_jobs) # Use the cleaned, tokenised documents to pass to corpus_iterable\n",
    "ft_model.train(corpus_iterable=tokenised_jobs,epochs=ft_model.epochs, # epochs refers to the number of times an example of word is seen (default is 5)\n",
    "    total_examples=ft_model.corpus_count, total_words=ft_model.corpus_total_words) \n",
    "print(ft_model)"
   ]
  },
  {
   "cell_type": "code",
   "execution_count": 19,
   "metadata": {},
   "outputs": [
    {
     "name": "stdout",
     "output_type": "stream",
     "text": [
      "True\n"
     ]
    }
   ],
   "source": [
    "ft_model_wv = ft_model.wv\n",
    "print('health' in ft_model_wv.key_to_index) # Check if text-embedding is correct"
   ]
  },
  {
   "cell_type": "code",
   "execution_count": 20,
   "metadata": {},
   "outputs": [
    {
     "data": {
      "text/plain": [
       "4711"
      ]
     },
     "execution_count": 20,
     "metadata": {},
     "output_type": "execute_result"
    }
   ],
   "source": [
    "len(vocab_set)"
   ]
  },
  {
   "cell_type": "code",
   "execution_count": 21,
   "metadata": {},
   "outputs": [
    {
     "name": "stdout",
     "output_type": "stream",
     "text": [
      "0.9999589\n",
      "[('health', 0.9999589323997498), ('healthy', 0.9999451637268066), ('wealth', 0.9999377727508545), ('dependant', 0.9998537302017212), ('heavy', 0.9998520612716675), ('permission', 0.9998365640640259), ('shared', 0.9998346567153931), ('carried', 0.9998210072517395), ('aimed', 0.9998189806938171), ('covered', 0.9998180270195007)]\n"
     ]
    }
   ],
   "source": [
    "print(ft_model_wv.similarity(\"health\", \"healthcare\")) # Further testing of model accuracy...\n",
    "\n",
    "print(ft_model_wv.most_similar(\"healthcare\", topn=10))"
   ]
  },
  {
   "cell_type": "code",
   "execution_count": 22,
   "metadata": {},
   "outputs": [],
   "source": [
    "# bad = []\n",
    "# set(set(sorted(vocab_set))- set(sorted(list(ft_model_wv.key_to_index))))==set(bad)"
   ]
  },
  {
   "cell_type": "markdown",
   "metadata": {},
   "source": [
    "### Creating the document vectors for all job descriptions"
   ]
  },
  {
   "cell_type": "code",
   "execution_count": 26,
   "metadata": {},
   "outputs": [],
   "source": [
    "def gen_docVecs(wv,tk_txts,tfidf=pd.DataFrame()): # generate vector representation for documents\n",
    "    docs_vectors = pd.DataFrame() # store all the word embeddings of the article\n",
    "\n",
    "    for i in range(len(tk_txts)): # loops through all documents\n",
    "        tokens = list(set(tk_txts[i])) # get the list of distinct words of the document\n",
    "\n",
    "        temp = pd.DataFrame()  # Creates dataframe to be used. This empties/resets for every new document\n",
    "        for w_ind in range(len(tokens)): # looping through each word of a single document and spliting through space\n",
    "            word = tokens[w_ind] # Sets the current word from the documents vocabulary\n",
    "            if word in wv:\n",
    "                word_vec = wv[word] # if word is present in embeddings(goole provides weights associate with words(300)) then proceed\n",
    "    #             if word in tk_txts[i] and word not in ft_model_wv.key_to_index: # for debugging\n",
    "    #                 bad.append(word)\n",
    "                if not tfidf.empty:\n",
    "                    word_weight = float(list(tfidf.loc[tfidf.index.str.fullmatch(word)][i])[0]) # As the dataframe has strings as indices, it will iterate using the word and i values. The list() and [0] are used to retrieve the actual value\n",
    "                else:\n",
    "                    word_weight = 1\n",
    "                temp = temp.append(pd.Series(word_vec*word_weight), ignore_index = True) # if word is present then append it to temporary dataframe\n",
    "\n",
    "        doc_vector = temp.sum() # take the sum of each column(w0, w1, w2,........w300) which is used to calculate the document vector value\n",
    "        docs_vectors = docs_vectors.append(doc_vector, ignore_index = True) # append each document value to the final dataframe\n",
    "    return docs_vectors\n",
    "\n",
    "weighted_docvecs = gen_docVecs(ft_model_wv,tokenised_jobs,tfidf_df)\n",
    "unweighted_docvecs = gen_docVecs(ft_model_wv,tokenised_jobs)"
   ]
  },
  {
   "cell_type": "code",
   "execution_count": 27,
   "metadata": {},
   "outputs": [
    {
     "data": {
      "text/plain": [
       "True"
      ]
     },
     "execution_count": 27,
     "metadata": {},
     "output_type": "execute_result"
    }
   ],
   "source": [
    "'bdfbdfsg3454dafadsdfs' in ft_model_wv"
   ]
  },
  {
   "cell_type": "code",
   "execution_count": 28,
   "metadata": {},
   "outputs": [
    {
     "data": {
      "text/html": [
       "<div>\n",
       "<style scoped>\n",
       "    .dataframe tbody tr th:only-of-type {\n",
       "        vertical-align: middle;\n",
       "    }\n",
       "\n",
       "    .dataframe tbody tr th {\n",
       "        vertical-align: top;\n",
       "    }\n",
       "\n",
       "    .dataframe thead th {\n",
       "        text-align: right;\n",
       "    }\n",
       "</style>\n",
       "<table border=\"1\" class=\"dataframe\">\n",
       "  <thead>\n",
       "    <tr style=\"text-align: right;\">\n",
       "      <th></th>\n",
       "      <th>0</th>\n",
       "      <th>1</th>\n",
       "      <th>2</th>\n",
       "      <th>3</th>\n",
       "      <th>4</th>\n",
       "      <th>5</th>\n",
       "      <th>6</th>\n",
       "      <th>7</th>\n",
       "      <th>8</th>\n",
       "      <th>9</th>\n",
       "      <th>...</th>\n",
       "      <th>90</th>\n",
       "      <th>91</th>\n",
       "      <th>92</th>\n",
       "      <th>93</th>\n",
       "      <th>94</th>\n",
       "      <th>95</th>\n",
       "      <th>96</th>\n",
       "      <th>97</th>\n",
       "      <th>98</th>\n",
       "      <th>99</th>\n",
       "    </tr>\n",
       "  </thead>\n",
       "  <tbody>\n",
       "    <tr>\n",
       "      <th>0</th>\n",
       "      <td>-1.972351</td>\n",
       "      <td>1.487682</td>\n",
       "      <td>-0.705202</td>\n",
       "      <td>-0.184204</td>\n",
       "      <td>1.669714</td>\n",
       "      <td>-0.168999</td>\n",
       "      <td>0.681874</td>\n",
       "      <td>0.521321</td>\n",
       "      <td>2.050951</td>\n",
       "      <td>-2.157410</td>\n",
       "      <td>...</td>\n",
       "      <td>-2.233495</td>\n",
       "      <td>0.441374</td>\n",
       "      <td>0.893315</td>\n",
       "      <td>-0.349450</td>\n",
       "      <td>-2.141840</td>\n",
       "      <td>3.439563</td>\n",
       "      <td>-0.081856</td>\n",
       "      <td>-0.751687</td>\n",
       "      <td>-1.874154</td>\n",
       "      <td>0.917979</td>\n",
       "    </tr>\n",
       "    <tr>\n",
       "      <th>1</th>\n",
       "      <td>-4.094389</td>\n",
       "      <td>3.158985</td>\n",
       "      <td>-1.471813</td>\n",
       "      <td>-0.489793</td>\n",
       "      <td>3.478320</td>\n",
       "      <td>-0.245370</td>\n",
       "      <td>1.424399</td>\n",
       "      <td>0.990223</td>\n",
       "      <td>4.148145</td>\n",
       "      <td>-4.192277</td>\n",
       "      <td>...</td>\n",
       "      <td>-4.504430</td>\n",
       "      <td>0.900829</td>\n",
       "      <td>1.752066</td>\n",
       "      <td>-0.645509</td>\n",
       "      <td>-4.341105</td>\n",
       "      <td>7.071928</td>\n",
       "      <td>-0.137359</td>\n",
       "      <td>-1.496275</td>\n",
       "      <td>-3.813340</td>\n",
       "      <td>1.872730</td>\n",
       "    </tr>\n",
       "    <tr>\n",
       "      <th>2</th>\n",
       "      <td>-2.680330</td>\n",
       "      <td>2.103823</td>\n",
       "      <td>-0.974773</td>\n",
       "      <td>-0.315382</td>\n",
       "      <td>2.262160</td>\n",
       "      <td>-0.154154</td>\n",
       "      <td>0.906851</td>\n",
       "      <td>0.649000</td>\n",
       "      <td>2.719985</td>\n",
       "      <td>-2.724742</td>\n",
       "      <td>...</td>\n",
       "      <td>-2.960918</td>\n",
       "      <td>0.589402</td>\n",
       "      <td>1.130864</td>\n",
       "      <td>-0.410076</td>\n",
       "      <td>-2.852312</td>\n",
       "      <td>4.641689</td>\n",
       "      <td>-0.100304</td>\n",
       "      <td>-0.958937</td>\n",
       "      <td>-2.516932</td>\n",
       "      <td>1.228713</td>\n",
       "    </tr>\n",
       "    <tr>\n",
       "      <th>3</th>\n",
       "      <td>-3.483441</td>\n",
       "      <td>2.686190</td>\n",
       "      <td>-1.249674</td>\n",
       "      <td>-0.423753</td>\n",
       "      <td>2.953541</td>\n",
       "      <td>-0.203643</td>\n",
       "      <td>1.198342</td>\n",
       "      <td>0.835545</td>\n",
       "      <td>3.505368</td>\n",
       "      <td>-3.521504</td>\n",
       "      <td>...</td>\n",
       "      <td>-3.814725</td>\n",
       "      <td>0.766412</td>\n",
       "      <td>1.461429</td>\n",
       "      <td>-0.519460</td>\n",
       "      <td>-3.668149</td>\n",
       "      <td>6.007287</td>\n",
       "      <td>-0.101798</td>\n",
       "      <td>-1.266337</td>\n",
       "      <td>-3.251670</td>\n",
       "      <td>1.603959</td>\n",
       "    </tr>\n",
       "    <tr>\n",
       "      <th>4</th>\n",
       "      <td>-1.398875</td>\n",
       "      <td>1.046080</td>\n",
       "      <td>-0.499156</td>\n",
       "      <td>-0.163658</td>\n",
       "      <td>1.191066</td>\n",
       "      <td>-0.104872</td>\n",
       "      <td>0.495558</td>\n",
       "      <td>0.351708</td>\n",
       "      <td>1.420907</td>\n",
       "      <td>-1.487249</td>\n",
       "      <td>...</td>\n",
       "      <td>-1.547973</td>\n",
       "      <td>0.315120</td>\n",
       "      <td>0.612553</td>\n",
       "      <td>-0.239554</td>\n",
       "      <td>-1.501682</td>\n",
       "      <td>2.419340</td>\n",
       "      <td>-0.036770</td>\n",
       "      <td>-0.537464</td>\n",
       "      <td>-1.302464</td>\n",
       "      <td>0.649863</td>\n",
       "    </tr>\n",
       "    <tr>\n",
       "      <th>...</th>\n",
       "      <td>...</td>\n",
       "      <td>...</td>\n",
       "      <td>...</td>\n",
       "      <td>...</td>\n",
       "      <td>...</td>\n",
       "      <td>...</td>\n",
       "      <td>...</td>\n",
       "      <td>...</td>\n",
       "      <td>...</td>\n",
       "      <td>...</td>\n",
       "      <td>...</td>\n",
       "      <td>...</td>\n",
       "      <td>...</td>\n",
       "      <td>...</td>\n",
       "      <td>...</td>\n",
       "      <td>...</td>\n",
       "      <td>...</td>\n",
       "      <td>...</td>\n",
       "      <td>...</td>\n",
       "      <td>...</td>\n",
       "      <td>...</td>\n",
       "    </tr>\n",
       "    <tr>\n",
       "      <th>771</th>\n",
       "      <td>-2.378698</td>\n",
       "      <td>1.802544</td>\n",
       "      <td>-0.852995</td>\n",
       "      <td>-0.194888</td>\n",
       "      <td>1.996455</td>\n",
       "      <td>-0.217380</td>\n",
       "      <td>0.805052</td>\n",
       "      <td>0.647162</td>\n",
       "      <td>2.501212</td>\n",
       "      <td>-2.615920</td>\n",
       "      <td>...</td>\n",
       "      <td>-2.717318</td>\n",
       "      <td>0.532124</td>\n",
       "      <td>1.080595</td>\n",
       "      <td>-0.422466</td>\n",
       "      <td>-2.584273</td>\n",
       "      <td>4.149693</td>\n",
       "      <td>-0.126187</td>\n",
       "      <td>-0.896194</td>\n",
       "      <td>-2.279017</td>\n",
       "      <td>1.107546</td>\n",
       "    </tr>\n",
       "    <tr>\n",
       "      <th>772</th>\n",
       "      <td>-3.032137</td>\n",
       "      <td>2.322842</td>\n",
       "      <td>-1.083520</td>\n",
       "      <td>-0.360456</td>\n",
       "      <td>2.591693</td>\n",
       "      <td>-0.180621</td>\n",
       "      <td>1.049468</td>\n",
       "      <td>0.734052</td>\n",
       "      <td>3.078123</td>\n",
       "      <td>-3.092906</td>\n",
       "      <td>...</td>\n",
       "      <td>-3.329257</td>\n",
       "      <td>0.648788</td>\n",
       "      <td>1.295704</td>\n",
       "      <td>-0.470746</td>\n",
       "      <td>-3.186980</td>\n",
       "      <td>5.244434</td>\n",
       "      <td>-0.096500</td>\n",
       "      <td>-1.126898</td>\n",
       "      <td>-2.825089</td>\n",
       "      <td>1.395885</td>\n",
       "    </tr>\n",
       "    <tr>\n",
       "      <th>773</th>\n",
       "      <td>-3.798037</td>\n",
       "      <td>2.865734</td>\n",
       "      <td>-1.349614</td>\n",
       "      <td>-0.427455</td>\n",
       "      <td>3.236269</td>\n",
       "      <td>-0.265550</td>\n",
       "      <td>1.323169</td>\n",
       "      <td>0.948021</td>\n",
       "      <td>3.863456</td>\n",
       "      <td>-3.954199</td>\n",
       "      <td>...</td>\n",
       "      <td>-4.188087</td>\n",
       "      <td>0.827365</td>\n",
       "      <td>1.647333</td>\n",
       "      <td>-0.617513</td>\n",
       "      <td>-4.004149</td>\n",
       "      <td>6.561461</td>\n",
       "      <td>-0.119013</td>\n",
       "      <td>-1.426140</td>\n",
       "      <td>-3.540977</td>\n",
       "      <td>1.753936</td>\n",
       "    </tr>\n",
       "    <tr>\n",
       "      <th>774</th>\n",
       "      <td>-2.916788</td>\n",
       "      <td>2.244478</td>\n",
       "      <td>-1.054204</td>\n",
       "      <td>-0.352803</td>\n",
       "      <td>2.487921</td>\n",
       "      <td>-0.173697</td>\n",
       "      <td>1.014610</td>\n",
       "      <td>0.703066</td>\n",
       "      <td>2.972480</td>\n",
       "      <td>-3.001239</td>\n",
       "      <td>...</td>\n",
       "      <td>-3.219554</td>\n",
       "      <td>0.632607</td>\n",
       "      <td>1.252346</td>\n",
       "      <td>-0.457510</td>\n",
       "      <td>-3.099184</td>\n",
       "      <td>5.051887</td>\n",
       "      <td>-0.100014</td>\n",
       "      <td>-1.085963</td>\n",
       "      <td>-2.714767</td>\n",
       "      <td>1.334377</td>\n",
       "    </tr>\n",
       "    <tr>\n",
       "      <th>775</th>\n",
       "      <td>-3.301091</td>\n",
       "      <td>2.528415</td>\n",
       "      <td>-1.190765</td>\n",
       "      <td>-0.342654</td>\n",
       "      <td>2.796979</td>\n",
       "      <td>-0.242873</td>\n",
       "      <td>1.134167</td>\n",
       "      <td>0.835414</td>\n",
       "      <td>3.413846</td>\n",
       "      <td>-3.497789</td>\n",
       "      <td>...</td>\n",
       "      <td>-3.706536</td>\n",
       "      <td>0.721328</td>\n",
       "      <td>1.452708</td>\n",
       "      <td>-0.549868</td>\n",
       "      <td>-3.547002</td>\n",
       "      <td>5.740090</td>\n",
       "      <td>-0.140791</td>\n",
       "      <td>-1.224765</td>\n",
       "      <td>-3.118490</td>\n",
       "      <td>1.523671</td>\n",
       "    </tr>\n",
       "  </tbody>\n",
       "</table>\n",
       "<p>776 rows × 100 columns</p>\n",
       "</div>"
      ],
      "text/plain": [
       "           0         1         2         3         4         5         6   \\\n",
       "0   -1.972351  1.487682 -0.705202 -0.184204  1.669714 -0.168999  0.681874   \n",
       "1   -4.094389  3.158985 -1.471813 -0.489793  3.478320 -0.245370  1.424399   \n",
       "2   -2.680330  2.103823 -0.974773 -0.315382  2.262160 -0.154154  0.906851   \n",
       "3   -3.483441  2.686190 -1.249674 -0.423753  2.953541 -0.203643  1.198342   \n",
       "4   -1.398875  1.046080 -0.499156 -0.163658  1.191066 -0.104872  0.495558   \n",
       "..        ...       ...       ...       ...       ...       ...       ...   \n",
       "771 -2.378698  1.802544 -0.852995 -0.194888  1.996455 -0.217380  0.805052   \n",
       "772 -3.032137  2.322842 -1.083520 -0.360456  2.591693 -0.180621  1.049468   \n",
       "773 -3.798037  2.865734 -1.349614 -0.427455  3.236269 -0.265550  1.323169   \n",
       "774 -2.916788  2.244478 -1.054204 -0.352803  2.487921 -0.173697  1.014610   \n",
       "775 -3.301091  2.528415 -1.190765 -0.342654  2.796979 -0.242873  1.134167   \n",
       "\n",
       "           7         8         9   ...        90        91        92  \\\n",
       "0    0.521321  2.050951 -2.157410  ... -2.233495  0.441374  0.893315   \n",
       "1    0.990223  4.148145 -4.192277  ... -4.504430  0.900829  1.752066   \n",
       "2    0.649000  2.719985 -2.724742  ... -2.960918  0.589402  1.130864   \n",
       "3    0.835545  3.505368 -3.521504  ... -3.814725  0.766412  1.461429   \n",
       "4    0.351708  1.420907 -1.487249  ... -1.547973  0.315120  0.612553   \n",
       "..        ...       ...       ...  ...       ...       ...       ...   \n",
       "771  0.647162  2.501212 -2.615920  ... -2.717318  0.532124  1.080595   \n",
       "772  0.734052  3.078123 -3.092906  ... -3.329257  0.648788  1.295704   \n",
       "773  0.948021  3.863456 -3.954199  ... -4.188087  0.827365  1.647333   \n",
       "774  0.703066  2.972480 -3.001239  ... -3.219554  0.632607  1.252346   \n",
       "775  0.835414  3.413846 -3.497789  ... -3.706536  0.721328  1.452708   \n",
       "\n",
       "           93        94        95        96        97        98        99  \n",
       "0   -0.349450 -2.141840  3.439563 -0.081856 -0.751687 -1.874154  0.917979  \n",
       "1   -0.645509 -4.341105  7.071928 -0.137359 -1.496275 -3.813340  1.872730  \n",
       "2   -0.410076 -2.852312  4.641689 -0.100304 -0.958937 -2.516932  1.228713  \n",
       "3   -0.519460 -3.668149  6.007287 -0.101798 -1.266337 -3.251670  1.603959  \n",
       "4   -0.239554 -1.501682  2.419340 -0.036770 -0.537464 -1.302464  0.649863  \n",
       "..        ...       ...       ...       ...       ...       ...       ...  \n",
       "771 -0.422466 -2.584273  4.149693 -0.126187 -0.896194 -2.279017  1.107546  \n",
       "772 -0.470746 -3.186980  5.244434 -0.096500 -1.126898 -2.825089  1.395885  \n",
       "773 -0.617513 -4.004149  6.561461 -0.119013 -1.426140 -3.540977  1.753936  \n",
       "774 -0.457510 -3.099184  5.051887 -0.100014 -1.085963 -2.714767  1.334377  \n",
       "775 -0.549868 -3.547002  5.740090 -0.140791 -1.224765 -3.118490  1.523671  \n",
       "\n",
       "[776 rows x 100 columns]"
      ]
     },
     "execution_count": 28,
     "metadata": {},
     "output_type": "execute_result"
    }
   ],
   "source": [
    "weighted_docvecs"
   ]
  },
  {
   "cell_type": "code",
   "execution_count": 29,
   "metadata": {},
   "outputs": [
    {
     "data": {
      "text/html": [
       "<div>\n",
       "<style scoped>\n",
       "    .dataframe tbody tr th:only-of-type {\n",
       "        vertical-align: middle;\n",
       "    }\n",
       "\n",
       "    .dataframe tbody tr th {\n",
       "        vertical-align: top;\n",
       "    }\n",
       "\n",
       "    .dataframe thead th {\n",
       "        text-align: right;\n",
       "    }\n",
       "</style>\n",
       "<table border=\"1\" class=\"dataframe\">\n",
       "  <thead>\n",
       "    <tr style=\"text-align: right;\">\n",
       "      <th></th>\n",
       "      <th>0</th>\n",
       "      <th>1</th>\n",
       "      <th>2</th>\n",
       "      <th>3</th>\n",
       "      <th>4</th>\n",
       "      <th>5</th>\n",
       "      <th>6</th>\n",
       "      <th>7</th>\n",
       "      <th>8</th>\n",
       "      <th>9</th>\n",
       "      <th>...</th>\n",
       "      <th>90</th>\n",
       "      <th>91</th>\n",
       "      <th>92</th>\n",
       "      <th>93</th>\n",
       "      <th>94</th>\n",
       "      <th>95</th>\n",
       "      <th>96</th>\n",
       "      <th>97</th>\n",
       "      <th>98</th>\n",
       "      <th>99</th>\n",
       "    </tr>\n",
       "  </thead>\n",
       "  <tbody>\n",
       "    <tr>\n",
       "      <th>0</th>\n",
       "      <td>-1.972351</td>\n",
       "      <td>1.487682</td>\n",
       "      <td>-0.705202</td>\n",
       "      <td>-0.184204</td>\n",
       "      <td>1.669714</td>\n",
       "      <td>-0.168999</td>\n",
       "      <td>0.681874</td>\n",
       "      <td>0.521321</td>\n",
       "      <td>2.050951</td>\n",
       "      <td>-2.157410</td>\n",
       "      <td>...</td>\n",
       "      <td>-2.233495</td>\n",
       "      <td>0.441374</td>\n",
       "      <td>0.893315</td>\n",
       "      <td>-0.349450</td>\n",
       "      <td>-2.141840</td>\n",
       "      <td>3.439563</td>\n",
       "      <td>-0.081856</td>\n",
       "      <td>-0.751687</td>\n",
       "      <td>-1.874154</td>\n",
       "      <td>0.917979</td>\n",
       "    </tr>\n",
       "    <tr>\n",
       "      <th>1</th>\n",
       "      <td>-4.094389</td>\n",
       "      <td>3.158985</td>\n",
       "      <td>-1.471813</td>\n",
       "      <td>-0.489793</td>\n",
       "      <td>3.478320</td>\n",
       "      <td>-0.245370</td>\n",
       "      <td>1.424399</td>\n",
       "      <td>0.990223</td>\n",
       "      <td>4.148145</td>\n",
       "      <td>-4.192277</td>\n",
       "      <td>...</td>\n",
       "      <td>-4.504430</td>\n",
       "      <td>0.900829</td>\n",
       "      <td>1.752066</td>\n",
       "      <td>-0.645509</td>\n",
       "      <td>-4.341105</td>\n",
       "      <td>7.071928</td>\n",
       "      <td>-0.137359</td>\n",
       "      <td>-1.496275</td>\n",
       "      <td>-3.813340</td>\n",
       "      <td>1.872730</td>\n",
       "    </tr>\n",
       "    <tr>\n",
       "      <th>2</th>\n",
       "      <td>-2.680330</td>\n",
       "      <td>2.103823</td>\n",
       "      <td>-0.974773</td>\n",
       "      <td>-0.315382</td>\n",
       "      <td>2.262160</td>\n",
       "      <td>-0.154154</td>\n",
       "      <td>0.906851</td>\n",
       "      <td>0.649000</td>\n",
       "      <td>2.719985</td>\n",
       "      <td>-2.724742</td>\n",
       "      <td>...</td>\n",
       "      <td>-2.960918</td>\n",
       "      <td>0.589402</td>\n",
       "      <td>1.130864</td>\n",
       "      <td>-0.410076</td>\n",
       "      <td>-2.852312</td>\n",
       "      <td>4.641689</td>\n",
       "      <td>-0.100304</td>\n",
       "      <td>-0.958937</td>\n",
       "      <td>-2.516932</td>\n",
       "      <td>1.228713</td>\n",
       "    </tr>\n",
       "    <tr>\n",
       "      <th>3</th>\n",
       "      <td>-3.483441</td>\n",
       "      <td>2.686190</td>\n",
       "      <td>-1.249674</td>\n",
       "      <td>-0.423753</td>\n",
       "      <td>2.953541</td>\n",
       "      <td>-0.203643</td>\n",
       "      <td>1.198342</td>\n",
       "      <td>0.835545</td>\n",
       "      <td>3.505368</td>\n",
       "      <td>-3.521504</td>\n",
       "      <td>...</td>\n",
       "      <td>-3.814725</td>\n",
       "      <td>0.766412</td>\n",
       "      <td>1.461429</td>\n",
       "      <td>-0.519460</td>\n",
       "      <td>-3.668149</td>\n",
       "      <td>6.007287</td>\n",
       "      <td>-0.101798</td>\n",
       "      <td>-1.266337</td>\n",
       "      <td>-3.251670</td>\n",
       "      <td>1.603959</td>\n",
       "    </tr>\n",
       "    <tr>\n",
       "      <th>4</th>\n",
       "      <td>-1.398875</td>\n",
       "      <td>1.046080</td>\n",
       "      <td>-0.499156</td>\n",
       "      <td>-0.163658</td>\n",
       "      <td>1.191066</td>\n",
       "      <td>-0.104872</td>\n",
       "      <td>0.495558</td>\n",
       "      <td>0.351708</td>\n",
       "      <td>1.420907</td>\n",
       "      <td>-1.487249</td>\n",
       "      <td>...</td>\n",
       "      <td>-1.547973</td>\n",
       "      <td>0.315120</td>\n",
       "      <td>0.612553</td>\n",
       "      <td>-0.239554</td>\n",
       "      <td>-1.501682</td>\n",
       "      <td>2.419340</td>\n",
       "      <td>-0.036770</td>\n",
       "      <td>-0.537464</td>\n",
       "      <td>-1.302464</td>\n",
       "      <td>0.649863</td>\n",
       "    </tr>\n",
       "    <tr>\n",
       "      <th>...</th>\n",
       "      <td>...</td>\n",
       "      <td>...</td>\n",
       "      <td>...</td>\n",
       "      <td>...</td>\n",
       "      <td>...</td>\n",
       "      <td>...</td>\n",
       "      <td>...</td>\n",
       "      <td>...</td>\n",
       "      <td>...</td>\n",
       "      <td>...</td>\n",
       "      <td>...</td>\n",
       "      <td>...</td>\n",
       "      <td>...</td>\n",
       "      <td>...</td>\n",
       "      <td>...</td>\n",
       "      <td>...</td>\n",
       "      <td>...</td>\n",
       "      <td>...</td>\n",
       "      <td>...</td>\n",
       "      <td>...</td>\n",
       "      <td>...</td>\n",
       "    </tr>\n",
       "    <tr>\n",
       "      <th>771</th>\n",
       "      <td>-2.378698</td>\n",
       "      <td>1.802544</td>\n",
       "      <td>-0.852995</td>\n",
       "      <td>-0.194888</td>\n",
       "      <td>1.996455</td>\n",
       "      <td>-0.217380</td>\n",
       "      <td>0.805052</td>\n",
       "      <td>0.647162</td>\n",
       "      <td>2.501212</td>\n",
       "      <td>-2.615920</td>\n",
       "      <td>...</td>\n",
       "      <td>-2.717318</td>\n",
       "      <td>0.532124</td>\n",
       "      <td>1.080595</td>\n",
       "      <td>-0.422466</td>\n",
       "      <td>-2.584273</td>\n",
       "      <td>4.149693</td>\n",
       "      <td>-0.126187</td>\n",
       "      <td>-0.896194</td>\n",
       "      <td>-2.279017</td>\n",
       "      <td>1.107546</td>\n",
       "    </tr>\n",
       "    <tr>\n",
       "      <th>772</th>\n",
       "      <td>-3.032137</td>\n",
       "      <td>2.322842</td>\n",
       "      <td>-1.083520</td>\n",
       "      <td>-0.360456</td>\n",
       "      <td>2.591693</td>\n",
       "      <td>-0.180621</td>\n",
       "      <td>1.049468</td>\n",
       "      <td>0.734052</td>\n",
       "      <td>3.078123</td>\n",
       "      <td>-3.092906</td>\n",
       "      <td>...</td>\n",
       "      <td>-3.329257</td>\n",
       "      <td>0.648788</td>\n",
       "      <td>1.295704</td>\n",
       "      <td>-0.470746</td>\n",
       "      <td>-3.186980</td>\n",
       "      <td>5.244434</td>\n",
       "      <td>-0.096500</td>\n",
       "      <td>-1.126898</td>\n",
       "      <td>-2.825089</td>\n",
       "      <td>1.395885</td>\n",
       "    </tr>\n",
       "    <tr>\n",
       "      <th>773</th>\n",
       "      <td>-3.798037</td>\n",
       "      <td>2.865734</td>\n",
       "      <td>-1.349614</td>\n",
       "      <td>-0.427455</td>\n",
       "      <td>3.236269</td>\n",
       "      <td>-0.265550</td>\n",
       "      <td>1.323169</td>\n",
       "      <td>0.948021</td>\n",
       "      <td>3.863456</td>\n",
       "      <td>-3.954199</td>\n",
       "      <td>...</td>\n",
       "      <td>-4.188087</td>\n",
       "      <td>0.827365</td>\n",
       "      <td>1.647333</td>\n",
       "      <td>-0.617513</td>\n",
       "      <td>-4.004149</td>\n",
       "      <td>6.561461</td>\n",
       "      <td>-0.119013</td>\n",
       "      <td>-1.426140</td>\n",
       "      <td>-3.540977</td>\n",
       "      <td>1.753936</td>\n",
       "    </tr>\n",
       "    <tr>\n",
       "      <th>774</th>\n",
       "      <td>-2.916788</td>\n",
       "      <td>2.244478</td>\n",
       "      <td>-1.054204</td>\n",
       "      <td>-0.352803</td>\n",
       "      <td>2.487921</td>\n",
       "      <td>-0.173697</td>\n",
       "      <td>1.014610</td>\n",
       "      <td>0.703066</td>\n",
       "      <td>2.972480</td>\n",
       "      <td>-3.001239</td>\n",
       "      <td>...</td>\n",
       "      <td>-3.219554</td>\n",
       "      <td>0.632607</td>\n",
       "      <td>1.252346</td>\n",
       "      <td>-0.457510</td>\n",
       "      <td>-3.099184</td>\n",
       "      <td>5.051887</td>\n",
       "      <td>-0.100014</td>\n",
       "      <td>-1.085963</td>\n",
       "      <td>-2.714767</td>\n",
       "      <td>1.334377</td>\n",
       "    </tr>\n",
       "    <tr>\n",
       "      <th>775</th>\n",
       "      <td>-3.301091</td>\n",
       "      <td>2.528415</td>\n",
       "      <td>-1.190765</td>\n",
       "      <td>-0.342654</td>\n",
       "      <td>2.796979</td>\n",
       "      <td>-0.242873</td>\n",
       "      <td>1.134167</td>\n",
       "      <td>0.835414</td>\n",
       "      <td>3.413846</td>\n",
       "      <td>-3.497789</td>\n",
       "      <td>...</td>\n",
       "      <td>-3.706536</td>\n",
       "      <td>0.721328</td>\n",
       "      <td>1.452708</td>\n",
       "      <td>-0.549868</td>\n",
       "      <td>-3.547002</td>\n",
       "      <td>5.740090</td>\n",
       "      <td>-0.140791</td>\n",
       "      <td>-1.224765</td>\n",
       "      <td>-3.118490</td>\n",
       "      <td>1.523671</td>\n",
       "    </tr>\n",
       "  </tbody>\n",
       "</table>\n",
       "<p>776 rows × 100 columns</p>\n",
       "</div>"
      ],
      "text/plain": [
       "           0         1         2         3         4         5         6   \\\n",
       "0   -1.972351  1.487682 -0.705202 -0.184204  1.669714 -0.168999  0.681874   \n",
       "1   -4.094389  3.158985 -1.471813 -0.489793  3.478320 -0.245370  1.424399   \n",
       "2   -2.680330  2.103823 -0.974773 -0.315382  2.262160 -0.154154  0.906851   \n",
       "3   -3.483441  2.686190 -1.249674 -0.423753  2.953541 -0.203643  1.198342   \n",
       "4   -1.398875  1.046080 -0.499156 -0.163658  1.191066 -0.104872  0.495558   \n",
       "..        ...       ...       ...       ...       ...       ...       ...   \n",
       "771 -2.378698  1.802544 -0.852995 -0.194888  1.996455 -0.217380  0.805052   \n",
       "772 -3.032137  2.322842 -1.083520 -0.360456  2.591693 -0.180621  1.049468   \n",
       "773 -3.798037  2.865734 -1.349614 -0.427455  3.236269 -0.265550  1.323169   \n",
       "774 -2.916788  2.244478 -1.054204 -0.352803  2.487921 -0.173697  1.014610   \n",
       "775 -3.301091  2.528415 -1.190765 -0.342654  2.796979 -0.242873  1.134167   \n",
       "\n",
       "           7         8         9   ...        90        91        92  \\\n",
       "0    0.521321  2.050951 -2.157410  ... -2.233495  0.441374  0.893315   \n",
       "1    0.990223  4.148145 -4.192277  ... -4.504430  0.900829  1.752066   \n",
       "2    0.649000  2.719985 -2.724742  ... -2.960918  0.589402  1.130864   \n",
       "3    0.835545  3.505368 -3.521504  ... -3.814725  0.766412  1.461429   \n",
       "4    0.351708  1.420907 -1.487249  ... -1.547973  0.315120  0.612553   \n",
       "..        ...       ...       ...  ...       ...       ...       ...   \n",
       "771  0.647162  2.501212 -2.615920  ... -2.717318  0.532124  1.080595   \n",
       "772  0.734052  3.078123 -3.092906  ... -3.329257  0.648788  1.295704   \n",
       "773  0.948021  3.863456 -3.954199  ... -4.188087  0.827365  1.647333   \n",
       "774  0.703066  2.972480 -3.001239  ... -3.219554  0.632607  1.252346   \n",
       "775  0.835414  3.413846 -3.497789  ... -3.706536  0.721328  1.452708   \n",
       "\n",
       "           93        94        95        96        97        98        99  \n",
       "0   -0.349450 -2.141840  3.439563 -0.081856 -0.751687 -1.874154  0.917979  \n",
       "1   -0.645509 -4.341105  7.071928 -0.137359 -1.496275 -3.813340  1.872730  \n",
       "2   -0.410076 -2.852312  4.641689 -0.100304 -0.958937 -2.516932  1.228713  \n",
       "3   -0.519460 -3.668149  6.007287 -0.101798 -1.266337 -3.251670  1.603959  \n",
       "4   -0.239554 -1.501682  2.419340 -0.036770 -0.537464 -1.302464  0.649863  \n",
       "..        ...       ...       ...       ...       ...       ...       ...  \n",
       "771 -0.422466 -2.584273  4.149693 -0.126187 -0.896194 -2.279017  1.107546  \n",
       "772 -0.470746 -3.186980  5.244434 -0.096500 -1.126898 -2.825089  1.395885  \n",
       "773 -0.617513 -4.004149  6.561461 -0.119013 -1.426140 -3.540977  1.753936  \n",
       "774 -0.457510 -3.099184  5.051887 -0.100014 -1.085963 -2.714767  1.334377  \n",
       "775 -0.549868 -3.547002  5.740090 -0.140791 -1.224765 -3.118490  1.523671  \n",
       "\n",
       "[776 rows x 100 columns]"
      ]
     },
     "execution_count": 29,
     "metadata": {},
     "output_type": "execute_result"
    }
   ],
   "source": [
    "weighted_docvecs"
   ]
  },
  {
   "cell_type": "code",
   "execution_count": 30,
   "metadata": {},
   "outputs": [
    {
     "data": {
      "text/html": [
       "<div>\n",
       "<style scoped>\n",
       "    .dataframe tbody tr th:only-of-type {\n",
       "        vertical-align: middle;\n",
       "    }\n",
       "\n",
       "    .dataframe tbody tr th {\n",
       "        vertical-align: top;\n",
       "    }\n",
       "\n",
       "    .dataframe thead th {\n",
       "        text-align: right;\n",
       "    }\n",
       "</style>\n",
       "<table border=\"1\" class=\"dataframe\">\n",
       "  <thead>\n",
       "    <tr style=\"text-align: right;\">\n",
       "      <th></th>\n",
       "      <th>0</th>\n",
       "      <th>1</th>\n",
       "      <th>2</th>\n",
       "      <th>3</th>\n",
       "      <th>4</th>\n",
       "      <th>5</th>\n",
       "      <th>6</th>\n",
       "      <th>7</th>\n",
       "      <th>8</th>\n",
       "      <th>9</th>\n",
       "      <th>...</th>\n",
       "      <th>90</th>\n",
       "      <th>91</th>\n",
       "      <th>92</th>\n",
       "      <th>93</th>\n",
       "      <th>94</th>\n",
       "      <th>95</th>\n",
       "      <th>96</th>\n",
       "      <th>97</th>\n",
       "      <th>98</th>\n",
       "      <th>99</th>\n",
       "    </tr>\n",
       "  </thead>\n",
       "  <tbody>\n",
       "    <tr>\n",
       "      <th>0</th>\n",
       "      <td>-10.985140</td>\n",
       "      <td>8.200937</td>\n",
       "      <td>-3.901209</td>\n",
       "      <td>-1.008057</td>\n",
       "      <td>9.287731</td>\n",
       "      <td>-0.989262</td>\n",
       "      <td>3.833038</td>\n",
       "      <td>2.935184</td>\n",
       "      <td>11.404034</td>\n",
       "      <td>-12.114835</td>\n",
       "      <td>...</td>\n",
       "      <td>-12.442237</td>\n",
       "      <td>2.478012</td>\n",
       "      <td>5.005674</td>\n",
       "      <td>-1.969613</td>\n",
       "      <td>-11.938132</td>\n",
       "      <td>19.136423</td>\n",
       "      <td>-0.427211</td>\n",
       "      <td>-4.232616</td>\n",
       "      <td>-10.423079</td>\n",
       "      <td>5.124691</td>\n",
       "    </tr>\n",
       "    <tr>\n",
       "      <th>1</th>\n",
       "      <td>-57.680298</td>\n",
       "      <td>44.156128</td>\n",
       "      <td>-20.595757</td>\n",
       "      <td>-6.738622</td>\n",
       "      <td>49.051029</td>\n",
       "      <td>-3.603425</td>\n",
       "      <td>20.158260</td>\n",
       "      <td>14.046943</td>\n",
       "      <td>58.383450</td>\n",
       "      <td>-59.261772</td>\n",
       "      <td>...</td>\n",
       "      <td>-63.379879</td>\n",
       "      <td>12.621774</td>\n",
       "      <td>24.810467</td>\n",
       "      <td>-9.196719</td>\n",
       "      <td>-60.887157</td>\n",
       "      <td>99.485207</td>\n",
       "      <td>-1.890049</td>\n",
       "      <td>-21.270418</td>\n",
       "      <td>-53.648460</td>\n",
       "      <td>26.414635</td>\n",
       "    </tr>\n",
       "    <tr>\n",
       "      <th>2</th>\n",
       "      <td>-21.893627</td>\n",
       "      <td>17.042719</td>\n",
       "      <td>-7.945249</td>\n",
       "      <td>-2.504454</td>\n",
       "      <td>18.491737</td>\n",
       "      <td>-1.398362</td>\n",
       "      <td>7.455744</td>\n",
       "      <td>5.391467</td>\n",
       "      <td>22.293545</td>\n",
       "      <td>-22.537884</td>\n",
       "      <td>...</td>\n",
       "      <td>-24.280823</td>\n",
       "      <td>4.856977</td>\n",
       "      <td>9.356846</td>\n",
       "      <td>-3.420914</td>\n",
       "      <td>-23.336363</td>\n",
       "      <td>37.921722</td>\n",
       "      <td>-0.824752</td>\n",
       "      <td>-7.896144</td>\n",
       "      <td>-20.593117</td>\n",
       "      <td>10.049790</td>\n",
       "    </tr>\n",
       "    <tr>\n",
       "      <th>3</th>\n",
       "      <td>-43.305248</td>\n",
       "      <td>33.290760</td>\n",
       "      <td>-15.591208</td>\n",
       "      <td>-5.162725</td>\n",
       "      <td>36.808903</td>\n",
       "      <td>-2.643085</td>\n",
       "      <td>14.957152</td>\n",
       "      <td>10.484231</td>\n",
       "      <td>43.928192</td>\n",
       "      <td>-44.312874</td>\n",
       "      <td>...</td>\n",
       "      <td>-47.728039</td>\n",
       "      <td>9.482463</td>\n",
       "      <td>18.442047</td>\n",
       "      <td>-6.667349</td>\n",
       "      <td>-45.858040</td>\n",
       "      <td>74.906357</td>\n",
       "      <td>-1.401029</td>\n",
       "      <td>-15.910863</td>\n",
       "      <td>-40.508194</td>\n",
       "      <td>19.930399</td>\n",
       "    </tr>\n",
       "    <tr>\n",
       "      <th>4</th>\n",
       "      <td>-5.685330</td>\n",
       "      <td>4.225989</td>\n",
       "      <td>-2.028116</td>\n",
       "      <td>-0.665076</td>\n",
       "      <td>4.841714</td>\n",
       "      <td>-0.440248</td>\n",
       "      <td>2.021273</td>\n",
       "      <td>1.435904</td>\n",
       "      <td>5.781133</td>\n",
       "      <td>-6.097822</td>\n",
       "      <td>...</td>\n",
       "      <td>-6.293375</td>\n",
       "      <td>1.292990</td>\n",
       "      <td>2.497591</td>\n",
       "      <td>-0.992259</td>\n",
       "      <td>-6.138811</td>\n",
       "      <td>9.837452</td>\n",
       "      <td>-0.142421</td>\n",
       "      <td>-2.213087</td>\n",
       "      <td>-5.292873</td>\n",
       "      <td>2.646677</td>\n",
       "    </tr>\n",
       "    <tr>\n",
       "      <th>...</th>\n",
       "      <td>...</td>\n",
       "      <td>...</td>\n",
       "      <td>...</td>\n",
       "      <td>...</td>\n",
       "      <td>...</td>\n",
       "      <td>...</td>\n",
       "      <td>...</td>\n",
       "      <td>...</td>\n",
       "      <td>...</td>\n",
       "      <td>...</td>\n",
       "      <td>...</td>\n",
       "      <td>...</td>\n",
       "      <td>...</td>\n",
       "      <td>...</td>\n",
       "      <td>...</td>\n",
       "      <td>...</td>\n",
       "      <td>...</td>\n",
       "      <td>...</td>\n",
       "      <td>...</td>\n",
       "      <td>...</td>\n",
       "      <td>...</td>\n",
       "    </tr>\n",
       "    <tr>\n",
       "      <th>771</th>\n",
       "      <td>-23.984241</td>\n",
       "      <td>17.999584</td>\n",
       "      <td>-8.581781</td>\n",
       "      <td>-2.228976</td>\n",
       "      <td>20.211269</td>\n",
       "      <td>-2.112097</td>\n",
       "      <td>8.280644</td>\n",
       "      <td>6.386010</td>\n",
       "      <td>24.942774</td>\n",
       "      <td>-26.141933</td>\n",
       "      <td>...</td>\n",
       "      <td>-27.117685</td>\n",
       "      <td>5.361232</td>\n",
       "      <td>10.801372</td>\n",
       "      <td>-4.142134</td>\n",
       "      <td>-25.971521</td>\n",
       "      <td>41.675724</td>\n",
       "      <td>-1.083776</td>\n",
       "      <td>-9.127860</td>\n",
       "      <td>-22.761770</td>\n",
       "      <td>11.134792</td>\n",
       "    </tr>\n",
       "    <tr>\n",
       "      <th>772</th>\n",
       "      <td>-28.384201</td>\n",
       "      <td>21.767242</td>\n",
       "      <td>-10.144732</td>\n",
       "      <td>-3.395274</td>\n",
       "      <td>24.269251</td>\n",
       "      <td>-1.661932</td>\n",
       "      <td>9.836161</td>\n",
       "      <td>6.841050</td>\n",
       "      <td>28.807041</td>\n",
       "      <td>-28.890816</td>\n",
       "      <td>...</td>\n",
       "      <td>-31.137724</td>\n",
       "      <td>6.046799</td>\n",
       "      <td>12.115027</td>\n",
       "      <td>-4.371555</td>\n",
       "      <td>-29.797503</td>\n",
       "      <td>49.084297</td>\n",
       "      <td>-0.905472</td>\n",
       "      <td>-10.544209</td>\n",
       "      <td>-26.434320</td>\n",
       "      <td>13.049135</td>\n",
       "    </tr>\n",
       "    <tr>\n",
       "      <th>773</th>\n",
       "      <td>-51.940956</td>\n",
       "      <td>39.228493</td>\n",
       "      <td>-18.523548</td>\n",
       "      <td>-5.916565</td>\n",
       "      <td>44.268894</td>\n",
       "      <td>-3.576627</td>\n",
       "      <td>18.155626</td>\n",
       "      <td>12.899160</td>\n",
       "      <td>52.889511</td>\n",
       "      <td>-54.267025</td>\n",
       "      <td>...</td>\n",
       "      <td>-57.313622</td>\n",
       "      <td>11.374024</td>\n",
       "      <td>22.572861</td>\n",
       "      <td>-8.481227</td>\n",
       "      <td>-55.047771</td>\n",
       "      <td>89.834633</td>\n",
       "      <td>-1.654877</td>\n",
       "      <td>-19.602047</td>\n",
       "      <td>-48.424522</td>\n",
       "      <td>23.982817</td>\n",
       "    </tr>\n",
       "    <tr>\n",
       "      <th>774</th>\n",
       "      <td>-29.278364</td>\n",
       "      <td>22.347929</td>\n",
       "      <td>-10.537817</td>\n",
       "      <td>-3.504679</td>\n",
       "      <td>25.019257</td>\n",
       "      <td>-1.827322</td>\n",
       "      <td>10.222361</td>\n",
       "      <td>7.089081</td>\n",
       "      <td>29.837250</td>\n",
       "      <td>-30.280787</td>\n",
       "      <td>...</td>\n",
       "      <td>-32.322090</td>\n",
       "      <td>6.383616</td>\n",
       "      <td>12.598066</td>\n",
       "      <td>-4.635520</td>\n",
       "      <td>-31.130274</td>\n",
       "      <td>50.700642</td>\n",
       "      <td>-0.973967</td>\n",
       "      <td>-10.997834</td>\n",
       "      <td>-27.293427</td>\n",
       "      <td>13.443869</td>\n",
       "    </tr>\n",
       "    <tr>\n",
       "      <th>775</th>\n",
       "      <td>-37.424915</td>\n",
       "      <td>28.658279</td>\n",
       "      <td>-13.512729</td>\n",
       "      <td>-3.879335</td>\n",
       "      <td>31.679207</td>\n",
       "      <td>-2.773933</td>\n",
       "      <td>12.884245</td>\n",
       "      <td>9.505112</td>\n",
       "      <td>38.718678</td>\n",
       "      <td>-39.738266</td>\n",
       "      <td>...</td>\n",
       "      <td>-42.053776</td>\n",
       "      <td>8.213174</td>\n",
       "      <td>16.491928</td>\n",
       "      <td>-6.246316</td>\n",
       "      <td>-40.288849</td>\n",
       "      <td>65.080849</td>\n",
       "      <td>-1.592168</td>\n",
       "      <td>-13.879073</td>\n",
       "      <td>-35.362743</td>\n",
       "      <td>17.265663</td>\n",
       "    </tr>\n",
       "  </tbody>\n",
       "</table>\n",
       "<p>776 rows × 100 columns</p>\n",
       "</div>"
      ],
      "text/plain": [
       "            0          1          2         3          4         5   \\\n",
       "0   -10.985140   8.200937  -3.901209 -1.008057   9.287731 -0.989262   \n",
       "1   -57.680298  44.156128 -20.595757 -6.738622  49.051029 -3.603425   \n",
       "2   -21.893627  17.042719  -7.945249 -2.504454  18.491737 -1.398362   \n",
       "3   -43.305248  33.290760 -15.591208 -5.162725  36.808903 -2.643085   \n",
       "4    -5.685330   4.225989  -2.028116 -0.665076   4.841714 -0.440248   \n",
       "..         ...        ...        ...       ...        ...       ...   \n",
       "771 -23.984241  17.999584  -8.581781 -2.228976  20.211269 -2.112097   \n",
       "772 -28.384201  21.767242 -10.144732 -3.395274  24.269251 -1.661932   \n",
       "773 -51.940956  39.228493 -18.523548 -5.916565  44.268894 -3.576627   \n",
       "774 -29.278364  22.347929 -10.537817 -3.504679  25.019257 -1.827322   \n",
       "775 -37.424915  28.658279 -13.512729 -3.879335  31.679207 -2.773933   \n",
       "\n",
       "            6          7          8          9   ...         90         91  \\\n",
       "0     3.833038   2.935184  11.404034 -12.114835  ... -12.442237   2.478012   \n",
       "1    20.158260  14.046943  58.383450 -59.261772  ... -63.379879  12.621774   \n",
       "2     7.455744   5.391467  22.293545 -22.537884  ... -24.280823   4.856977   \n",
       "3    14.957152  10.484231  43.928192 -44.312874  ... -47.728039   9.482463   \n",
       "4     2.021273   1.435904   5.781133  -6.097822  ...  -6.293375   1.292990   \n",
       "..         ...        ...        ...        ...  ...        ...        ...   \n",
       "771   8.280644   6.386010  24.942774 -26.141933  ... -27.117685   5.361232   \n",
       "772   9.836161   6.841050  28.807041 -28.890816  ... -31.137724   6.046799   \n",
       "773  18.155626  12.899160  52.889511 -54.267025  ... -57.313622  11.374024   \n",
       "774  10.222361   7.089081  29.837250 -30.280787  ... -32.322090   6.383616   \n",
       "775  12.884245   9.505112  38.718678 -39.738266  ... -42.053776   8.213174   \n",
       "\n",
       "            92        93         94         95        96         97  \\\n",
       "0     5.005674 -1.969613 -11.938132  19.136423 -0.427211  -4.232616   \n",
       "1    24.810467 -9.196719 -60.887157  99.485207 -1.890049 -21.270418   \n",
       "2     9.356846 -3.420914 -23.336363  37.921722 -0.824752  -7.896144   \n",
       "3    18.442047 -6.667349 -45.858040  74.906357 -1.401029 -15.910863   \n",
       "4     2.497591 -0.992259  -6.138811   9.837452 -0.142421  -2.213087   \n",
       "..         ...       ...        ...        ...       ...        ...   \n",
       "771  10.801372 -4.142134 -25.971521  41.675724 -1.083776  -9.127860   \n",
       "772  12.115027 -4.371555 -29.797503  49.084297 -0.905472 -10.544209   \n",
       "773  22.572861 -8.481227 -55.047771  89.834633 -1.654877 -19.602047   \n",
       "774  12.598066 -4.635520 -31.130274  50.700642 -0.973967 -10.997834   \n",
       "775  16.491928 -6.246316 -40.288849  65.080849 -1.592168 -13.879073   \n",
       "\n",
       "            98         99  \n",
       "0   -10.423079   5.124691  \n",
       "1   -53.648460  26.414635  \n",
       "2   -20.593117  10.049790  \n",
       "3   -40.508194  19.930399  \n",
       "4    -5.292873   2.646677  \n",
       "..         ...        ...  \n",
       "771 -22.761770  11.134792  \n",
       "772 -26.434320  13.049135  \n",
       "773 -48.424522  23.982817  \n",
       "774 -27.293427  13.443869  \n",
       "775 -35.362743  17.265663  \n",
       "\n",
       "[776 rows x 100 columns]"
      ]
     },
     "execution_count": 30,
     "metadata": {},
     "output_type": "execute_result"
    }
   ],
   "source": [
    "unweighted_docvecs"
   ]
  },
  {
   "cell_type": "markdown",
   "metadata": {},
   "source": [
    "## Task 3. Job Advertisement Classification"
   ]
  },
  {
   "cell_type": "markdown",
   "metadata": {},
   "source": [
    "...... Sections and code blocks on buidling classification models based on different document feature represetations. \n",
    "Detailed comparsions and evaluations on different models to answer each question as per specification. \n",
    "\n",
    "<span style=\"color: red\"> You might have complex notebook structure in this section, please feel free to create your own notebook structure. </span>"
   ]
  },
  {
   "cell_type": "markdown",
   "metadata": {},
   "source": [
    "Here we add the labels to the IDs:"
   ]
  },
  {
   "cell_type": "code",
   "execution_count": 31,
   "metadata": {},
   "outputs": [],
   "source": [
    "labels = np.concatenate([np.full(232, 'Engineering'), # This labels each data sample as the category they were found in the file.\n",
    "                         np.full(191, 'Healthcare'), # The order hasn't changed since reading the files in, \n",
    "                         np.full(198, 'Accounting'), # so the correct categories will match the data\n",
    "                         np.full(155, 'Sales')])"
   ]
  },
  {
   "cell_type": "markdown",
   "metadata": {},
   "source": [
    "### Here we fit the count-based vector and plot the results"
   ]
  },
  {
   "cell_type": "code",
   "execution_count": 63,
   "metadata": {},
   "outputs": [
    {
     "name": "stdout",
     "output_type": "stream",
     "text": [
      "Accuracy:  0.8599221789883269\n",
      "\n",
      "\n",
      "Heatmap for count-based vectors logistic regression prediction\n"
     ]
    },
    {
     "data": {
      "text/plain": [
       "Text(0.5, 15.0, 'Predicted')"
      ]
     },
     "execution_count": 63,
     "metadata": {},
     "output_type": "execute_result"
    },
    {
     "data": {
      "image/png": "[encoded data removed]",
      "text/plain": [
       "<Figure size 432x288 with 2 Axes>"
      ]
     },
     "metadata": {
      "needs_background": "light"
     },
     "output_type": "display_data"
    }
   ],
   "source": [
    "# Here we split the count_vectorizer data into training and testing datasets\n",
    "X_train, X_test, y_train, y_test,train_indices,test_indices = train_test_split(count_matrix, labels, list(range(0,len(labels))),test_size=0.33, random_state=seed)\n",
    "\n",
    "# Here we initialize the model\n",
    "model = LogisticRegression(max_iter = 2000,random_state=seed)\n",
    "model.fit(X_train, y_train) # Fit the model to the training data\n",
    "print(\"Accuracy: \", model.score(X_test, y_test))\n",
    "print('\\n\\nHeatmap for count-based vectors logistic regression prediction')\n",
    "\n",
    "y_pred = model.predict(X_test) # Stores the predicted values\n",
    "\n",
    "conf_mat = confusion_matrix(y_test, y_pred)\n",
    "categories = sorted(list(set(labels))) # this gives sorted set of unique label names\n",
    "\n",
    "sns.heatmap(conf_mat, annot=True, fmt='d',\n",
    "            xticklabels=categories, yticklabels=categories) # creates a heatmap from the confusion matrix\n",
    "plt.ylabel('Actual')\n",
    "plt.xlabel('Predicted')"
   ]
  },
  {
   "cell_type": "code",
   "execution_count": 33,
   "metadata": {},
   "outputs": [
    {
     "data": {
      "text/plain": [
       "776"
      ]
     },
     "execution_count": 33,
     "metadata": {},
     "output_type": "execute_result"
    }
   ],
   "source": [
    "count_matrix.shape[0]"
   ]
  },
  {
   "cell_type": "code",
   "execution_count": 87,
   "metadata": {},
   "outputs": [],
   "source": [
    "des = ('We are currently looking for a Graduate Engineer to join our project team on a long term  FIFO role.'+\n",
    "' You will be supporting the Projects team with project deliverables to some of the largest mining clients in WA.'+\n",
    "' Your responsibilities will includeResponsibilities will includeAssisting with compiling and developing tender documentation.'+\n",
    "' Supporting the team with preparation of schedules, pricing, HSE, QAQC and Engineering documentation for submission.'+\n",
    "' Assisting with management of fabrication packages.'+\n",
    "' Coordinating procurement of materials relevant to the project.'+\n",
    "' Working closely with clients, subcontractors, DIAB management and all other project staff.'+\n",
    "' Travelling to site from time to time for tender site visits and execution support.'+\n",
    "' Ad hoc business support and administrative duties as required.'+\n",
    "' Assisting in maintaining on-site Quality and documentation requirements')\n",
    "# des = ('Event Medical Plus is a South Australian company that delivers on our promise to the community of professional event health and medical services. '+\n",
    "# 'We have fast become a disruptive force in the event healthcare industry and are continuing to lead the way in delivering quality healthcare services and '+\n",
    "# 'now, providing a solid grounding for future and budding health practitioners.'+\n",
    "# ' Established in 2014, Event Medical Plus continually raises the standard in service delivery and clinical care. ')"
   ]
  },
  {
   "cell_type": "code",
   "execution_count": 64,
   "metadata": {},
   "outputs": [],
   "source": [
    "count_vectorizer = CountVectorizer(vocabulary = vocab_set) # initialise the CountVectorizer\n",
    "count_matrix = count_vectorizer.fit_transform([des])"
   ]
  },
  {
   "cell_type": "code",
   "execution_count": 66,
   "metadata": {},
   "outputs": [
    {
     "name": "stdout",
     "output_type": "stream",
     "text": [
      "Accuracy:  0.0\n",
      "\n",
      "\n",
      "Heatmap for count-based vectors logistic regression prediction\n"
     ]
    },
    {
     "data": {
      "text/plain": [
       "Text(0.5, 15.0, 'Predicted')"
      ]
     },
     "execution_count": 66,
     "metadata": {},
     "output_type": "execute_result"
    },
    {
     "data": {
      "image/png": "[encoded data removed]",
      "text/plain": [
       "<Figure size 432x288 with 2 Axes>"
      ]
     },
     "metadata": {
      "needs_background": "light"
     },
     "output_type": "display_data"
    }
   ],
   "source": [
    "print(\"Accuracy: \", model.score(count_matrix, ['Sales']))\n",
    "print('\\n\\nHeatmap for count-based vectors logistic regression prediction')\n",
    "\n",
    "y_pred = model.predict(count_matrix) # Stores the predicted values\n",
    "\n",
    "conf_mat = confusion_matrix(['Accounting'], y_pred)\n",
    "categories = sorted(list(set(labels))) # this gives sorted set of unique label names\n",
    "\n",
    "sns.heatmap(conf_mat, annot=True, fmt='d',\n",
    "            xticklabels=categories, yticklabels=categories) # creates a heatmap from the confusion matrix\n",
    "plt.ylabel('Actual')\n",
    "plt.xlabel('Predicted')"
   ]
  },
  {
   "cell_type": "code",
   "execution_count": 108,
   "metadata": {},
   "outputs": [],
   "source": [
    "X_train, X_test, y_train, y_test,train_indices,test_indices = train_test_split(count_matrix, labels, list(range(0,len(labels))),test_size=0.000001, random_state=seed)"
   ]
  },
  {
   "cell_type": "code",
   "execution_count": 79,
   "metadata": {},
   "outputs": [
    {
     "data": {
      "text/plain": [
       "<519x4711 sparse matrix of type '<class 'numpy.int64'>'\n",
       "\twith 40770 stored elements in Compressed Sparse Row format>"
      ]
     },
     "execution_count": 79,
     "metadata": {},
     "output_type": "execute_result"
    }
   ],
   "source": [
    "X_train"
   ]
  },
  {
   "cell_type": "code",
   "execution_count": 109,
   "metadata": {},
   "outputs": [
    {
     "data": {
      "text/plain": [
       "<775x4711 sparse matrix of type '<class 'numpy.int64'>'\n",
       "\twith 61604 stored elements in Compressed Sparse Row format>"
      ]
     },
     "execution_count": 109,
     "metadata": {},
     "output_type": "execute_result"
    }
   ],
   "source": [
    "X_train"
   ]
  },
  {
   "cell_type": "code",
   "execution_count": 110,
   "metadata": {},
   "outputs": [
    {
     "data": {
      "text/plain": [
       "LogisticRegression(max_iter=2000, random_state=0)"
      ]
     },
     "execution_count": 110,
     "metadata": {},
     "output_type": "execute_result"
    }
   ],
   "source": [
    "lrmodel = LogisticRegression(max_iter = 2000,random_state=seed)\n",
    "lrmodel.fit(X_train, y_train)"
   ]
  },
  {
   "cell_type": "code",
   "execution_count": 105,
   "metadata": {},
   "outputs": [
    {
     "data": {
      "text/plain": [
       "LogisticRegression(max_iter=2000, random_state=0)"
      ]
     },
     "execution_count": 105,
     "metadata": {},
     "output_type": "execute_result"
    }
   ],
   "source": [
    "lrmodel"
   ]
  },
  {
   "cell_type": "code",
   "execution_count": 112,
   "metadata": {},
   "outputs": [],
   "source": [
    "pickle.dump(lrmodel, open('lrmodel.pkl', 'wb'))"
   ]
  },
  {
   "cell_type": "code",
   "execution_count": 99,
   "metadata": {},
   "outputs": [],
   "source": [
    "des = '''We have an excellent position for a band 7 dietitian to work in London The role: This is a new role to establish the paediatric home enteral feeding service. The locum role will mobilise the service including assessment, care planning and case management of 80 children and liaison between community and acute care providers. You need to have experience in community paediatric home enteral feeding and experience of multidisciplinary working. Strong project management and communication skills are essential, along with the ability to supervise a small team of **** people. Occasional travel to central London may be required, a car driver and owner is essential for this role. Position: Band 7 dietitian Start Date: 4th February 2013 Duration: 34 months Location: London Car Driver: Yes If this sounds like the next job for you, please get in touch ASAP by calling Lauren Bradshaw on or email your current CV to Refer a friend for this dietetic job and earn 200 Cash About us… Working with Mediplacements you'll receive: A dedicated one to one service Fast track registration process Excellent rates of pay Assistance with travel and accommodation Weekly pay on time, every time Access to exclusive NHS and Private sector jobs 24 hour service from our friendly consultants Additional benefits include: Our loyalty scheme; TPG incentives thousands of online and in store discounts No Registration Fee Reimbursed CRBs Free online training available Mediplacements are a GPS (formerly Buying Solutions) approved agency and hold many 'Preferred Supplier' agreements with the NHS Nationwide. This status ensures that our candidates gain the best possible exposure to quality standards, best practice and the best selection of temporary jobs available, visit for details.'''"
   ]
  },
  {
   "cell_type": "code",
   "execution_count": 103,
   "metadata": {},
   "outputs": [],
   "source": [
    "des = 'This is a engineering job. please if youre good at engineering stuff join us.' +  ' engineering'*40"
   ]
  },
  {
   "cell_type": "code",
   "execution_count": 111,
   "metadata": {},
   "outputs": [
    {
     "data": {
      "text/plain": [
       "'Engineering'"
      ]
     },
     "execution_count": 111,
     "metadata": {},
     "output_type": "execute_result"
    }
   ],
   "source": [
    "count_vectorizer = CountVectorizer(vocabulary = vocab_set) # initialise the CountVectorizer\n",
    "count_matrix = count_vectorizer.fit_transform([des])\n",
    "\n",
    "lrmodel.predict(count_matrix)[0]"
   ]
  },
  {
   "cell_type": "code",
   "execution_count": 126,
   "metadata": {},
   "outputs": [
    {
     "data": {
      "text/plain": [
       "4711"
      ]
     },
     "execution_count": 126,
     "metadata": {},
     "output_type": "execute_result"
    }
   ],
   "source": [
    "len(vocab_set)"
   ]
  },
  {
   "cell_type": "code",
   "execution_count": 127,
   "metadata": {},
   "outputs": [],
   "source": [
    "with open('vocabulary.txt','w') as file:\n",
    "    for word in vocab_set:\n",
    "        file.write(word+'\\n')"
   ]
  },
  {
   "cell_type": "code",
   "execution_count": 129,
   "metadata": {},
   "outputs": [
    {
     "name": "stdout",
     "output_type": "stream",
     "text": [
      "['aaron', 'aat', 'abb', 'aberdeen', 'abi', 'abilities', 'abreast', 'abroad', 'absence', 'absolute', 'ac', 'aca', 'academic', 'academy', 'acca', 'accept', 'acceptable', 'acceptance', 'accepted', 'access', 'accessible', 'accident', 'accommodates', 'accommodation', 'accomplished', 'accordance', 'account', 'accountabilities', 'accountability', 'accountable', 'accountancy', 'accountant', 'accountants', 'accounting', 'accounts', 'accreditation', 'accredited', 'accruals', 'accuracy', 'accurate', 'accurately', 'achievable', 'achieve', 'achieved', 'achievement', 'achievements', 'achiever', 'achieving', 'acii', 'acquired', 'acquisition', 'acquisitions', 'act', 'acting', 'action', 'actions', 'active', 'actively', 'activities', 'activity', 'acts', 'actual', 'actuarial', 'acumen', 'acute', 'ad', 'adam', 'adapt', 'adaptability', 'add', 'added', 'adding', 'addition', 'additional', 'additionally', 'additions', 'address', 'addresses', 'addressing', 'adecco', 'adept', 'adequacy', 'adequate', 'adequately', 'adhere', 'adhered', 'adherence', 'adhering', 'adhoc', 'adjust', 'adjuster', 'adjusting', 'adjustments', 'admin', 'administer', 'administered', 'administering', 'administration', 'administrative', 'administrator', 'administrators', 'admission', 'admissions', 'adobe', 'adolescents', 'adopt', 'adopted', 'adopting', 'adrian', 'ads', 'adult', 'adults', 'advance', 'advanced', 'advancement', 'advances', 'advantage', 'advantageous', 'advert', 'advertise', 'advertised', 'advertisement', 'advertising', 'advertsing', 'advice', 'advise', 'advised', 'adviser', 'advisers', 'advising', 'advisor', 'advisors', 'advisory', 'aeronautical', 'aerospace', 'affairs', 'affect', 'affected', 'affecting', 'affinity', 'affordable', 'africa', 'aftermarket', 'afternoon', 'afternoons', 'age', 'aged', 'agencies', 'agency', 'agent', 'agents', 'ages', 'aggressive', 'agile', 'ago', 'agree', 'agreed', 'agreement', 'agreements', 'agy', 'ahead', 'ahu', 'aid', 'aided', 'aids', 'aim', 'aimed', 'aims', 'air', 'aircraft', 'alarms', 'albans', 'alcohol', 'aldredirweb', 'alecto', 'alex', 'algorithm', 'aligned', 'alignment', 'alike', 'allocated', 'allocation', 'allowance', 'allowances', 'allowing', 'alongside', 'alternate', 'alternative', 'alternatively', 'aluminium', 'amazing', 'ambassador', 'ambition', 'ambitions', 'ambitious', 'amenities', 'america', 'amount', 'amounts', 'amp', 'analog', 'analogue', 'analyse', 'analysers', 'analyses', 'analysing', 'analysis', 'analyst', 'analysts', 'analytical', 'analytics', 'ancillary', 'andrew', 'android', 'androidoptometryapp', 'andy', 'angiography', 'anglia', 'annual', 'annum', 'anomalies', 'answer', 'answered', 'answering', 'anticipate', 'anticipated', 'apartments', 'api', 'appearance', 'appetite', 'appleoptometry', 'applicable', 'applicant', 'applicants', 'application', 'applications', 'applied', 'applies', 'applying', 'appoint', 'appointed', 'appointment', 'appointments', 'appraisal', 'appraisals', 'appraising', 'appreciation', 'apprentice', 'apprenticeship', 'approach', 'approachable', 'approaches', 'appropriately', 'approval', 'approved', 'approx', 'approximately', 'aptitude', 'aptrack', 'ar', 'architect', 'architects', 'architectural', 'architecture', 'architectures', 'archiving', 'area', 'areas', 'arena', 'arise', 'arisen', 'arm', 'armed', 'arrange', 'arranged', 'arrangement', 'arrangements', 'arranging', 'array', 'art', 'articulate', 'articulating', 'asap', 'asbestos', 'ascertain', 'ascot', 'ashley', 'asia', 'asked', 'asp', 'aspect', 'aspects', 'aspirations', 'aspire', 'assembler', 'assemblies', 'assembly', 'assertive', 'assess', 'assessed', 'assessing', 'assessment', 'assessments', 'assessor', 'assessors', 'asset', 'assets', 'assigned', 'assignment', 'assignments', 'assimilate', 'assist', 'assistance', 'assistant', 'assistants', 'assisted', 'assisting', 'assists', 'associate', 'associates', 'association', 'assume', 'assuming', 'assumptions', 'assurance', 'assured', 'astute', 'atmosphere', 'att', 'attached', 'attend', 'attendance', 'attending', 'attention', 'attitude', 'attitudes', 'attract', 'attracting', 'attractive', 'attracts', 'attributes', 'audience', 'audiences', 'audio', 'audit', 'auditing', 'auditor', 'auditors', 'audits', 'authorisation', 'authorised', 'authorities', 'authority', 'authorized', 'autism', 'auto', 'autocad', 'autodesk', 'automated', 'automatic', 'automatically', 'automation', 'automotive', 'autonomous', 'autonomously', 'autonomy', 'auxiliaries', 'auxiliary', 'av', 'availability', 'avenues', 'average', 'avon', 'award', 'awarded', 'awards', 'awardwinning', 'aware', 'awareness', 'ax', 'axapta', 'axis', 'aylesbury', 'ba', 'bachelor', \"bachelor's\", 'back', 'backed', 'backend', 'background', 'backgrounds', 'backing', 'bacs', 'bailey', 'baking', 'balance', 'balances', 'band', 'bank', 'banking', 'banks', 'barchester', \"barchester's\", 'barnsley', 'base', 'baseband', 'basel', 'bases', 'basic', 'basingstoke', 'basis', 'batch', 'bath', 'bathing', 'bathrooms', 'bdm', 'beautiful', 'becky', 'bed', 'bedded', 'bedford', 'bedfordshire', 'beds', 'began', 'begin', 'behalf', 'behaviour', 'behavioural', 'behaviours', 'belfast', 'belief', 'believes', 'bell', 'belt', 'ben', 'bench', 'beneficial', 'benefit', 'benelux', 'beng', 'benn', 'bens', 'berkshire', 'bespoke', 'bexhill', 'bias', 'biased', 'bid', 'bids', 'big', 'biggest', 'bikes', 'billing', 'billion', 'bills', 'birmingham', 'birthdays', 'bit', 'black', 'blackburn', 'blind', 'blocked', 'blood', 'bls', 'blue', 'bluebird', 'bluechip', 'bms', 'bmsbmsit', 'bmsgraduates', 'bmsit', 'bmsuk', 'bn', 'board', 'boast', 'boasts', 'bodies', 'body', 'boiler', 'boilers', 'bonus', 'bonuses', 'book', 'booked', 'booking', 'bookings', 'bookkeeper', 'bookkeeping', 'books', 'boost', 'border', 'boring', 'boundaries', 'bournemouth', 'boutique', 'box', 'brace', 'bracknell', 'bradford', 'brain', 'branch', 'branches', 'brand', 'branded', 'brands', 'break', 'breakdown', 'breakdowns', 'breaking', 'bridge', 'briefings', 'briefs', 'bright', 'brighton', 'brilliant', 'bring', 'bringing', 'brings', 'bristol', 'britain', \"britain's\", 'british', 'brixton', 'broad', 'broaden', 'broken', 'broker', 'brokerage', 'brokers', 'broking', 'bromley', 'brown', 'bs', 'bsc', 'buckinghamshire', 'buckle', 'budget', 'budgetary', 'budgeted', 'budgeting', 'budgets', 'build', 'building', 'buildings', 'builds', 'built', 'bulk', 'bull', 'bupa', 'bureau', 'burgess', 'bury', 'bus', 'businesses', 'busy', 'butler', 'button', 'buy', 'buyer', 'buyers', 'buying', 'ca', 'cable', 'cabling', 'cad', 'cae', 'calculation', 'calculations', 'calibrating', 'calibration', 'calibre', 'california', 'call', 'called', 'caller', 'calling', 'calls', 'calm', 'cam', 'cambridge', 'cambridgeshire', 'cameras', 'campaigns', 'canada', 'cancer', 'candidates', 'cannock', 'canteen', 'canvassing', 'capabilities', 'capability', 'capable', 'capacity', 'capex', 'capita', 'capital', 'capture', 'car', 'carbon', 'card', 'cardiac', 'cardiff', 'cardiology', 'cards', 'care', 'cared', 'career', 'careers', 'carefully', 'carer', 'carers', 'cares', 'caribbean', 'carillion', 'carillon', 'caring', 'carl', 'caroline', 'carpet', 'carpets', 'carried', 'carrier', 'carries', 'carry', 'carrying', 'cars', 'case', 'caseload', 'cases', 'cash', 'cashflow', 'cashiering', 'castings', 'casual', 'categories', 'catering', 'caterpillar', 'caters', 'catia', 'ccab', 'ccn', 'cct', 'cctv', 'cduttoncompassltd', 'celebrating', 'cell', 'cells', 'cemap', 'ceng', 'central', 'centrally', 'centre', \"centre's\", 'centred', 'centres', 'century', 'ceo', 'cerebral', 'certificate', 'certificates', 'certification', 'certifications', 'certified', 'cfo', 'chain', 'chains', 'chairing', 'challenge', 'challenges', 'challenging', 'champion', 'chance', 'change', 'changed', 'changing', 'channel', 'channels', 'character', 'characteristics', 'charge', 'charged', 'charismatic', 'charitable', 'charities', 'charity', 'chartered', 'chartership', 'chase', 'chasemedical', 'chat', 'check', 'checkable', 'checking', 'checks', 'chelmsford', 'cheltenham', 'chemical', 'cheques', 'cheshire', 'chester', 'chesterfield', 'chichester', 'chief', 'child', \"child's\", 'childcare', 'children', \"children's\", 'chip', 'choice', 'choices', 'choose', 'chosen', 'chris', 'christmas', 'cima', 'cinema', 'circa', 'circuit', 'circuitry', 'circuits', 'circumstances', 'cis', 'cisco', 'citizens', 'city', 'civil', 'civils', 'claims', 'clarity', 'class', 'classes', 'classification', 'clean', 'cleaning', 'cleanliness', 'clear', 'clearance', 'cleared', 'clerical', 'clerk', 'click', 'clicking', \"client's\", 'clientfacing', 'climate', 'climb', 'climbing', 'clinic', 'clinical', 'clinically', 'clinicians', 'clinics', 'close', 'closed', 'closely', 'closer', 'closing', 'clothing', 'club', 'cmc', 'cmm', 'cnc', 'coach', 'coaching', 'code', 'coded', 'codes', 'coding', 'colchester', 'cold', 'coldcalling', 'collaborating', 'collaboration', 'colleague', 'colleagues', 'collect', 'collected', 'collection', 'collections', 'college', 'colour', 'combination', 'combine', 'combined', 'comfort', 'comfortable', 'comforting', 'coming', 'comm', 'command', 'commence', 'commensurate', 'commentary', 'commercial', 'commercially', 'commission', 'commissioning', 'commissions', 'commit', 'commited', 'commitment', 'commitments', 'committed', 'committee', 'commodity', 'common', 'comms', 'communal', 'communicate', 'communicated', 'communicating', 'communication', 'communications', 'communicator', 'community', 'commutable', 'commute', 'companies', 'companionship', \"company's\", 'comparable', 'compass', 'compassionate', 'compatibility', 'compelling', 'compensation', 'competence', 'competencies', 'competency', 'competent', 'competently', 'competition', 'competitive', 'competitor', 'competitors', 'compile', 'compiling', 'complaint', 'complaints', 'complement', 'complete', 'completed', 'completely', 'completeness', 'completing', 'completion', 'complex', 'complexity', 'compliance', 'compliant', 'complied', 'complies', 'comply', 'complying', 'component', 'components', 'composite', 'comprehension', 'comprehensive', 'compressed', 'compressors', 'computational', 'computations', 'computer', 'computerised', 'concentrate', 'concentration', 'concept', 'concepts', 'conceptual', 'concern', 'concerned', 'concerns', 'concise', 'conclusion', 'condition', 'conditioning', 'conditions', 'conduct', 'conducted', 'conducting', 'conduit', 'confederation', 'conference', 'conferences', 'confidence', 'confident', 'confidential', 'confidentiality', 'confidently', 'configuration', 'confirm', 'confirmation', 'confirming', 'conflicting', 'conjunction', 'connection', 'connections', 'connectivity', 'conscious', 'consent', 'consenting', 'considerable', 'consideration', 'considered', 'consist', 'consistency', 'consistent', 'consistently', 'consisting', 'consists', 'consolidated', 'consolidation', 'constant', 'constantly', 'constraints', 'construction', 'constructively', 'consult', 'consultancies', 'consultancy', 'consultant', 'consultants', 'consultation', 'consultations', 'consultative', 'consulting', 'consumables', 'consumer', 'consumers', 'contacted', 'contacting', 'contacts', 'content', 'context', 'continental', 'continents', 'continual', 'continually', 'continue', 'continued', 'continues', 'continuing', 'continuity', 'continuous', 'continuously', 'contract', 'contracted', 'contracting', 'contractor', 'contractors', 'contracts', 'contractual', 'contribute', 'contributing', 'contribution', 'contributions', 'contributory', 'control', 'controlled', 'controller', 'controllers', 'controlling', 'controls', 'conveniently', 'conventional', 'convergence', 'conversant', 'conversion', 'convert', 'converters', 'converting', 'conveyor', 'conveyors', 'coo', 'cooking', 'cooper', 'cooperate', 'cooperation', 'coordinate', 'coordinating', 'coordination', 'coordinator', 'coordinators', 'cope', 'copiers', 'coping', 'copy', 'copyright', 'core', 'corner', 'corporate', 'corporation', 'correct', 'correction', 'corrective', 'correctly', 'correspondence', 'corridor', 'cost', 'costing', 'costs', 'council', 'counselling', 'counter', 'counterparty', 'counties', 'countries', 'country', \"country's\", 'countryside', 'county', 'couple', 'coupled', 'courier', 'courses', 'court', 'coventry', 'cover', 'coverage', 'covered', 'covering', 'covers', 'cpa', 'cpd', 'cqc', 'cranes', 'crawley', 'crb', 'crbs', 'create', 'created', 'creating', 'creation', 'creative', 'creativity', 'credentials', 'credibility', 'credible', 'credit', 'creditors', 'credits', 'creed', 'criminal', 'crisis', 'criteria', 'critical', 'crm', 'cross', 'croydon', 'crucial', 'cs', 'cta', 'cultural', 'culture', 'cumbria', 'current', 'custody', 'custom', 'customer', \"customer's\", 'customerfacing', 'customers', 'customised', 'cutting', 'cuttingedge', 'cvs', 'cycle', 'cycles', 'daily', 'damage', 'dan', 'daniel', 'darlington', 'darren', 'dartford', 'data', 'database', 'databases', 'date', 'dates', 'daventry', 'day', 'days', 'daytoday', 'dbs', 'dc', 'ddi', 'deadlines', 'deal', 'dealer', 'dealers', 'dealership', 'dealerships', 'dealing', 'dealings', 'deals', 'death', 'debits', 'debrief', 'debt', 'debtor', 'debtors', 'debts', 'debug', 'decade', 'decades', 'decided', 'decision', 'decisionmaking', 'decisions', 'decommissioning', 'dedicated', 'dedication', 'deem', 'deemed', 'deep', 'defects', 'defence', 'defense', 'define', 'defined', 'defining', 'definition', 'degree', 'degrees', 'delay', 'delays', 'delegate', 'delegating', 'delegation', 'delighted', 'deliver', 'deliverables', 'delivered', 'delivering', 'delivers', 'delivery', 'demand', 'demanding', 'demands', 'dementia', 'demo', 'demonstrable', 'demonstrate', 'demonstrated', 'demonstrates', 'demonstrating', 'demonstration', 'demonstrations', 'demonstrative', 'dental', 'dentists', 'department', 'departmental', 'departments', 'depend', 'dependable', 'dependant', 'dependent', 'depending', 'deployment', 'deposits', 'depot', 'depth', 'deputise', 'deputising', 'deputy', 'derby', 'derbyshire', 'derivative', 'derivatives', 'derive', 'description', 'deserve', 'design', 'designated', 'designed', 'designer', 'designers', 'designing', 'designs', 'desirable', 'desire', 'desired', 'desk', 'desktop', 'detail', 'detailed', 'detailing', 'details', 'detect', 'detection', 'determination', 'determine', 'determined', 'determining', 'develop', 'developed', 'developer', 'developers', 'developing', 'developments', 'develops', 'deviations', 'device', 'devices', 'devise', 'devon', 'dewsbury', 'diabetic', 'diagnose', 'diagnosis', 'diagnostic', 'diagrams', 'diary', 'diesel', 'difference', 'differences', 'difficult', 'difficulties', 'digital', 'dignified', 'dignity', 'diploma', 'diplomacy', 'direct', 'directed', 'directing', 'direction', 'directly', 'director', 'directorates', 'directors', 'disabilities', 'disability', 'disabled', 'disciplinary', 'discipline', 'disciplined', 'disciplines', 'disclaimers', 'disclosure', 'discount', 'discounted', 'discounts', 'discrepancies', 'discretion', 'discriminate', 'discuss', 'discussed', 'discussing', 'discussion', 'discussions', 'disease', 'disorders', 'dispensing', 'display', 'displaying', 'disposal', 'disposition', 'dispute', 'disputes', 'disseminate', 'distance', 'distinct', 'distinguished', 'distress', 'distributed', 'distribution', 'distributor', 'distributors', 'district', 'diverse', 'diversity', 'dividend', 'division', 'divisional', 'divisions', 'dockyard', 'doctors', 'document', 'documentary', 'documentation', 'documented', 'documenting', 'documents', 'doe', 'domestic', 'domiciliary', 'don', 'doncaster', 'donna', 'door', 'doors', 'dorset', 'dosing', 'dot', 'double', 'doubt', 'download', 'draft', 'draw', 'drawing', 'drawings', 'dream', 'dress', 'dressing', 'drilling', 'drink', 'drinks', 'drive', 'driven', 'driver', 'drivers', 'drives', 'driving', 'drug', 'drugs', 'dry', 'dsp', 'dublin', 'due', 'duel', 'dundee', 'duration', 'durham', 'duston', 'dutch', 'duties', 'duty', 'dv', 'dyce', 'dying', 'dynamic', 'dynamics', 'ealing', 'early', 'earn', 'earned', 'earners', 'earning', 'earnings', 'easily', 'east', 'eastleigh', 'easy', 'ec', 'echadwickeclypserecruitment', 'eclypse', 'eco', 'ecommerce', 'economic', 'economics', 'economies', 'economy', 'eden', 'edge', 'edinburgh', 'editing', 'edition', 'editorial', 'editors', 'edm', 'educated', 'education', 'educational', 'edwards', 'edwardsrlsales', 'ef', 'effect', 'effective', 'effectively', 'effectiveness', 'efficiency', 'efficient', 'efficiently', 'effort', 'efforts', 'egham', 'ein', 'elderly', 'electrical', 'electrically', 'electrician', 'electricians', 'electricity', 'electro', 'electromechanical', 'electronic', 'electronics', 'element', 'elements', 'eligibility', 'eligible', 'elite', 'email', 'emailing', 'emails', 'emarketing', 'embedded', 'embedding', 'emc', 'emea', 'emergencies', 'emergency', 'emerging', 'emma', 'emotional', 'empathy', 'emphasis', 'employ', 'employed', 'employee', 'employees', 'employer', 'employers', 'employing', 'employment', 'employs', 'empower', 'empowering', 'enable', 'enabled', 'enables', 'enabling', 'enb', 'encapsulates', 'enclosing', 'encompasses', 'encompassing', 'encourage', 'encouraged', 'encourages', 'end', 'endeavour', 'endoscopy', 'endtoend', 'enduring', 'endusers', 'energetic', 'energy', 'enfield', 'engage', 'engaged', 'engagement', 'engaging', 'engine', 'engineer', 'engineered', 'engineering', 'engineers', 'engines', 'england', 'english', 'enhance', 'enhanced', 'enhancements', 'enhances', 'enhancing', 'enjoy', 'enjoyable', 'enjoyed', 'enjoying', 'enjoys', 'enquire', 'enquiries', 'enrolment', 'ensure', 'ensures', 'ensuring', 'entail', 'entered', 'entering', 'enterprise', 'enterprises', 'entertainment', 'enthusiasm', 'enthusiastic', 'entire', 'entitlement', 'entity', 'entrepreneurial', 'entries', 'entry', 'enviable', 'environment', 'environmental', 'environments', 'epilepsy', 'epsom', 'equal', 'equality', 'equally', 'equipment', 'equipped', 'equity', 'equivalent', 'equivalents', 'erp', 'errors', 'escalate', 'escalated', 'escalation', 'escorting', 'essentially', 'essentials', 'essex', 'establish', 'established', 'establishing', 'establishment', 'establishments', 'estate', 'estates', 'estimate', 'estimated', 'estimates', 'estimating', 'ethernet', 'ethic', 'ethical', 'ethics', 'ethnic', 'ethos', 'ets', 'eu', 'euro', 'europe', 'european', 'evaluate', 'evaluating', 'evaluation', 'evening', 'evenings', 'event', 'events', 'everyday', 'evidence', 'evidencebased', 'evm', 'evolution', 'ew', 'ewan', 'exact', 'examinations', 'exams', 'exceed', 'exceeded', 'exceeding', 'excel', 'excelled', 'excellence', 'exceptional', 'exceptionally', 'excess', 'exchange', 'excited', 'exciting', 'exclusive', 'exclusively', 'exec', 'executing', 'execution', 'executive', 'executives', 'exempt', 'exercise', 'exercises', 'exeter', 'exhaustive', 'exhibit', 'exhibition', 'exhibitions', 'exist', 'existing', 'exists', 'expand', 'expanded', 'expanding', 'expansion', 'expect', 'expectation', 'expectations', 'expected', 'expecting', 'expects', 'expediting', 'expenditure', 'expense', 'expensed', 'expenses', 'experienced', 'experiences', 'experiencing', 'expert', 'expertise', 'experts', 'explain', 'explaining', 'explicitly', 'explore', 'explored', 'exploring', 'export', 'exposure', 'express', 'expressing', 'ext', 'extend', 'extended', 'extension', 'extensive', 'extensively', 'external', 'externally', 'extra', 'extremely', 'eye', 'eyewear', 'fabrication', 'face', 'facebook', 'facetoface', 'facilitate', 'facilities', 'facility', 'facing', 'fact', 'factor', 'factors', 'factory', 'failing', 'failure', 'failures', 'fair', 'fairly', 'fairs', 'false', 'familiar', 'familiarity', 'families', 'family', 'fantastic', 'fanuc', 'fareham', 'farm', 'fashion', 'fast', 'fastest', 'fastpaced', 'fasttrack', 'fault', 'faultfinding', 'fax', 'fea', 'features', 'feb', 'february', 'fee', 'feedback', 'feeding', 'feeds', 'feel', 'feels', 'fees', 'feet', 'fel', 'fgas', 'field', 'fields', 'figure', 'figures', 'file', 'files', 'filing', 'fill', 'films', 'final', 'finalist', 'finance', 'finances', 'financial', 'financially', 'financials', 'financing', 'find', 'finding', 'findings', 'fine', 'finest', 'finish', 'finite', 'fire', 'fired', 'firm', 'firmly', 'firms', 'firstclass', 'fit', 'fitness', 'fits', 'fitter', 'fitters', 'fitting', 'fittings', 'fix', 'fixed', 'fixtures', 'flair', 'flame', 'flat', 'fleet', 'flexibility', 'flexible', 'flexibly', 'flights', 'floor', 'flotilla', 'flourish', 'flow', 'fluency', 'fluent', 'fluently', 'fluid', 'fm', 'fmcg', 'focal', 'focus', 'focused', 'focuses', 'focusing', 'focussed', 'focussing', 'follow', 'followup', 'food', 'foot', 'footprint', 'force', 'ford', 'forecast', 'forecasting', 'forecasts', 'forefront', 'foreign', 'foremost', 'forge', 'forklift', 'form', 'formal', 'format', 'formed', 'forming', 'forms', 'fortune', 'forum', 'forums', 'forward', 'forwarded', 'forwardthinking', 'fos', 'foster', 'fostering', 'found', 'foundation', 'founded', 'fox', 'fp', 'fpc', 'fpga', 'frail', 'frame', 'frames', 'framework', 'frank', 'fraud', 'free', 'freedom', 'freephone', 'french', 'frequency', 'frequently', 'fresh', 'fri', 'friday', 'fridays', 'friend', 'friendly', 'friends', 'front', 'frontline', 'frustrated', 'fsa', 'ftc', 'ftp', 'ftse', 'fuel', 'fulfil', 'fulltime', 'fully', 'fun', 'function', 'functional', 'functionality', 'functions', 'fund', 'fundamental', 'funded', 'funding', 'fundraiser', 'fundraising', 'funds', 'furniture', 'fusion', 'future', 'fx', 'fyfe', 'gaap', 'gain', 'gained', 'gaining', 'gainsborough', 'galaxy', 'game', 'games', 'gan', 'gap', 'gaps', 'garbutt', 'gardens', 'gary', 'gas', 'gather', 'gathering', 'gb', 'gcse', \"gcse's\", 'gen', 'gender', 'general', 'generally', 'generate', 'generated', 'generating', 'generation', 'generator', 'generators', 'generous', 'genuine', 'genuinely', 'geographical', 'geology', 'geomechanics', 'geophysics', 'geotechnical', 'german', 'germany', 'giant', 'gift', 'give', 'giving', 'glasgow', 'glasses', 'glastonbury', 'glen', 'global', 'globally', 'globe', 'gloucester', 'gloucestershire', 'gmc', 'goal', 'goals', 'goc', 'gold', 'goods', 'gov', 'governance', 'governing', 'government', 'gp', 'gps', 'grade', 'grades', 'graduate', 'graduates', 'grasp', 'great', 'greater', 'green', 'grid', 'grinding', 'grinstead', 'grocery', 'gross', 'ground', 'grounds', 'group', 'groups', 'groupwide', 'grow', 'growing', 'grown', 'growth', 'gsm', 'guaranteed', 'guest', 'gui', 'guidance', 'guide', 'guided', 'guidelines', 'guildford', 'guilds', 'gym', 'gynaecology', 'hair', 'half', 'halifax', 'hall', 'hammersmith', 'hammond', 'hampshire', 'hand', 'handbook', 'handheld', 'handing', 'handle', 'handled', 'handlers', 'handling', 'handover', 'handpicked', 'hands', 'handson', 'happen', 'happy', 'harborough', 'hard', 'hardware', 'hardworking', 'harrogate', 'harrow', 'harsh', 'haslemere', 'hatfield', 'haven', 'haverhill', 'hays', 'hca', 'hcl', 'hcpc', 'head', 'headcount', 'headed', 'headoffice', 'headquartered', 'health', 'healthcare', 'healthy', 'hear', 'heard', 'hearing', 'heart', 'heating', 'heavily', 'heavy', 'hedge', 'heidenhain', 'held', 'helpful', 'helping', 'helps', 'hemel', 'hempstead', 'hepatitis', 'hertfordshire', 'hesitate', 'hgv', 'highend', 'higher', 'highest', 'highlevel', 'highlight', 'highly', 'highprofile', 'highquality', 'highvalue', 'highway', 'highways', 'hill', 'hillman', 'hind', 'hire', 'hiring', 'historical', 'history', 'hit', 'hitchin', 'hitting', 'hm', 'hmi', 'hmrc', 'hnc', 'hnd', 'hnw', 'hobbies', 'hoc', 'hold', 'holder', 'holders', 'holding', 'holdings', 'holiday', 'holidays', 'holistic', 'holly', 'hollyjprec', 'home', 'homecare', 'homely', 'homes', 'honest', 'honestly', 'honesty', 'honing', 'hons', 'hook', 'horizons', 'horsham', 'hospital', 'hospitality', 'hospitals', 'host', 'hot', 'hotels', 'hour', 'hourly', 'hours', 'house', 'household', 'housekeeping', 'houses', 'housing', 'hove', 'howarth', 'hp', 'hpc', 'hq', 'hr', 'hrs', 'hse', 'hseq', 'html', 'http', 'hub', 'huddersfield', 'huge', 'hugely', 'hugh', 'hull', 'hulledwardsandpearce', 'human', 'hundreds', 'hunger', 'hungry', 'hunt', 'hunter', 'hunting', 'hv', 'hvac', 'hydraulic', 'hydraulics', 'hygiene', 'hyperion', 'ic', 'ica', 'icaap', 'ict', 'icu', 'idea', 'ideal', 'ideally', 'ideas', 'identification', 'identified', 'identifies', 'identify', 'identifying', 'identity', 'ifa', 'ifas', 'ifrs', 'illegal', 'illness', 'ils', 'image', 'imaging', 'immediately', 'impact', 'impacts', 'impartial', 'imperative', 'implement', 'implementation', 'implementations', 'implemented', 'implementing', 'implements', 'implications', 'importance', 'important', 'importantly', 'impression', 'impressive', 'improve', 'improved', 'improvement', 'improvements', 'improving', 'inbound', 'incentive', 'incentives', 'inception', 'incident', 'incidents', 'incl', 'included', 'includes', 'inclusion', 'inclusive', 'income', 'incoming', 'incomplete', 'incorporate', 'incorporated', 'incorporates', 'incorporating', 'increase', 'increased', 'increases', 'increasing', 'increasingly', 'incredible', 'incredibly', 'incremental', 'incumbent', 'independence', 'independent', 'independently', 'indepth', 'indesign', 'indicators', 'individual', 'individualised', 'individuality', 'individually', 'individuals', 'induction', 'industrial', 'industries', 'industry', 'infection', 'infirm', 'influence', 'influences', 'influencing', 'influential', 'info', 'infochasemedical', 'inform', 'informal', 'informed', 'infrastructure', 'inherit', 'inhouse', 'initial', 'initially', 'initiate', 'initiative', 'initiatives', 'injection', 'injuries', 'injury', 'inline', 'innovation', 'innovative', 'input', 'inputs', 'inservice', 'inside', 'insight', 'inspect', 'inspecting', 'inspection', 'inspections', 'inspector', 'inspectors', 'inspirational', 'inspire', 'inspired', 'inspiring', 'install', 'installation', 'installations', 'installed', 'installer', 'installing', 'instance', 'instant', 'instantly', 'institute', 'institution', 'institutions', 'instructed', 'instructions', 'instrument', 'instrumental', 'instrumentation', 'instruments', 'insurance', 'insurances', 'insurer', 'insurers', 'intake', 'intech', 'integral', 'integrate', 'integrated', 'integration', 'integrator', 'integrators', 'integrity', 'intellectual', 'intelligence', 'intelligent', 'intended', 'intensive', 'interact', 'interacting', 'interaction', 'interacts', 'intercompany', 'interest', 'interested', 'interesting', 'interests', 'interface', 'interfaces', 'interfacing', 'interim', 'interior', 'intermediate', 'internal', 'internally', 'international', 'internationally', 'internet', 'interpersonal', 'interpret', 'interpretation', 'interpreting', 'intervals', 'intervention', 'interventional', 'interventions', 'interview', 'interviewed', 'interviewing', 'interviews', 'introduced', 'introducing', 'introduction', 'introductory', 'intruder', 'inventor', 'inventory', 'invest', 'invested', 'investigate', 'investigated', 'investigating', 'investigation', 'investigations', 'investing', 'investment', 'investments', 'investor', 'investors', 'invests', 'invite', 'invited', 'invoice', 'invoices', 'invoicing', 'involve', 'involved', 'involvement', 'involves', 'involving', 'ios', 'ip', 'ipad', 'iphone', 'ipswich', 'ireland', 'iron', 'isa', 'isabel', 'isn', 'iso', 'issue', 'issued', 'issues', 'issuing', 'italian', 'italy', 'items', 'iterative', 'itu', 'iv', 'jade', 'jam', 'james', 'jamie', 'jamrecruitment', 'jan', 'jane', 'january', 'japan', 'jason', 'javascript', 'jb', 'jjfox', 'jobs', 'john', 'johnston', 'joined', 'joining', 'joint', 'jon', 'jonathan', 'journal', 'journals', 'journey', 'jp', 'js', 'judgement', 'junction', 'june', 'junior', 'justifications', 'justot', 'justphysio', 'kareplus', 'katie', 'kayesa', 'kbasic', 'kd', 'keen', 'keeper', 'keeping', 'kent', 'kerridge', 'kettering', 'key', 'keyboard', 'keynes', 'keynsham', 'keywords', 'kick', 'kind', 'kingdom', 'kits', 'knit', 'knowhow', 'knowledgeable', 'kote', 'kpi', \"kpi's\", 'kpis', 'kv', 'lab', 'laboratory', 'labour', 'ladder', 'lancashire', 'land', 'language', 'languages', 'laporte', 'laptop', 'large', 'largely', 'larger', 'largest', 'lasting', 'late', 'latest', 'lathe', 'lathes', 'launch', 'launching', 'laundering', 'laundry', 'laura', 'law', 'laws', 'layout', 'layouts', 'lead', 'leader', 'leaders', 'leadership', 'leads', 'leamington', 'lean', 'learn', 'learning', 'leave', 'leaving', 'led', 'ledger', 'ledgers', 'lee', 'leeds', 'legal', 'legislation', 'leicester', 'leicestershire', 'leigh', 'leighedenbrown', 'leisure', 'lend', 'lenders', 'lending', 'length', 'lens', 'letter', 'letters', 'lettings', 'level', 'levels', 'lewis', 'lgi', 'liaise', 'liaising', 'liaison', 'liasing', 'library', 'licence', 'license', 'licensing', 'lie', 'life', 'lifecycle', 'lifestyle', 'lifetime', 'lift', 'lifting', 'lifts', 'light', 'lighting', 'limit', 'limitations', 'limited', 'limits', 'lincoln', 'lincolnshire', 'line', 'lines', 'link', 'linked', 'linkedin', 'links', 'linux', 'liquid', 'liquidity', 'list', 'listed', 'listen', 'listener', 'listening', 'listing', 'lists', 'literacy', 'literate', 'literature', 'live', 'liverpool', 'lives', 'living', 'll', 'lloyd', 'llp', 'load', 'loading', 'loan', 'loans', 'local', 'locality', 'locally', 'locate', 'located', 'location', 'locations', 'locomotives', 'locum', 'lodge', 'log', 'logging', 'logical', 'logistics', 'london', 'long', 'longer', 'longerterm', 'longterm', 'looked', 'loop', 'loss', 'lot', 'lots', 'loughborough', 'love', 'lovely', 'loves', 'low', 'loyal', 'loyalty', 'ls', 'lu', 'lucrative', 'lunch', 'luton', 'luxury', 'lv', 'machine', 'machinery', 'machines', 'machining', 'machinist', 'machinists', 'made', 'maidenhead', 'mail', 'main', 'maine', 'maintain', 'maintained', 'maintaining', 'maintains', 'maintenance', 'major', 'majority', 'make', 'makers', 'makes', 'making', 'malaysia', 'man', 'manage', 'managed', 'managerial', 'managers', 'manages', 'managing', 'manchester', 'mandatory', 'manner', 'manoeuvring', 'manor', 'mansfield', 'manual', 'manually', 'manuals', 'manufacture', 'manufactured', 'manufacturer', 'manufacturers', 'manufactures', 'manufacturing', 'march', 'margin', 'margins', 'marine', 'marital', 'market', 'marketing', 'marketleading', 'marketplace', 'markets', 'marsden', 'mason', 'massive', 'master', 'masters', 'match', 'matches', 'matching', 'matchtech', 'material', 'materials', 'maternity', 'mathematical', 'mathematics', 'maths', 'matlab', 'matrix', 'matt', 'matter', 'matters', 'matthew', 'mature', 'maximise', 'maximising', 'maximize', 'maximizing', 'maximum', 'mazak', 'mazatrol', 'mba', 'md', 'meal', 'meals', 'meaning', 'meaningful', 'means', 'measurable', 'measure', 'measurement', 'measures', 'measuring', 'mechanical', 'mechanically', 'mechanics', 'mechanism', 'mechanisms', 'media', 'medical', 'medication', 'medications', 'medicine', 'medicines', 'mediplacements', 'medium', 'meet', 'meeting', 'meetings', 'meets', 'member', 'members', 'membership', 'men', 'meng', 'mental', 'mentality', 'mentally', 'mentioned', 'mentor', 'mentoring', 'mentorship', 'merchandising', 'merchants', 'mergers', 'meridian', 'merit', 'merits', 'met', 'metal', 'metals', 'meter', 'metering', 'methodical', 'methodologies', 'methodology', 'methods', 'metrics', 'metrology', 'mgirecruitment', 'mi', 'michael', 'microcontroller', 'microsoft', 'mid', 'middle', 'middlesbrough', 'middlesex', 'midlands', 'midterm', 'midwifery', 'mig', 'mike', 'mild', 'mile', 'mileage', 'miles', 'milestones', 'military', 'miller', 'milling', 'million', 'millions', 'milton', 'min', 'mind', 'minded', 'mindful', 'minds', 'minimal', 'minimise', 'minimum', 'mining', 'ministry', 'minor', 'minutes', 'mis', 'miss', 'missed', 'mission', 'misuse', 'mitigate', 'mix', 'mixed', 'mixture', 'mm', 'mobile', 'mobility', 'mod', 'model', 'modelling', 'models', 'modern', 'modification', 'modifications', 'modified', 'modular', 'module', 'modules', 'mon', 'monday', 'money', 'monfri', 'monies', 'monitor', 'monitored', 'monitoring', 'monitors', 'month', 'monthly', 'months', 'morale', 'moran', 'morgan', 'morning', 'mornings', 'morrisons', 'mortgage', 'mot', 'motherboard', 'motivate', 'motivated', 'motivating', 'motivation', 'motivational', 'motor', 'motoring', 'motors', 'motorway', 'moulding', 'mouldings', 'move', 'movements', 'moving', 'ms', 'msi', 'multi', 'multidisciplinary', 'multidisciplined', 'multimedia', 'multimillion', 'multinational', 'multiple', 'multiples', 'multiskilled', 'multitask', 'musculoskeletal', 'music', 'mutual', 'mvc', 'named', 'names', 'national', 'nationality', 'nationally', 'nationals', 'nationwide', 'natural', 'naturally', 'nature', 'nav', 'naval', 'navy', 'nbsp', 'ndash', 'nearby', 'nec', 'necessarily', 'needed', 'needing', 'negotiable', 'negotiate', 'negotiating', 'negotiation', 'negotiator', 'neots', 'net', 'network', 'networking', 'networks', 'neurological', 'newark', 'newbury', 'newcastle', 'newly', 'newmarket', 'newport', 'news', 'ng', 'nhs', 'nic', 'niche', 'nigel', 'night', 'nights', 'nmc', 'nn', 'nominal', 'noncommittal', 'nondesigner', 'nonprofit', 'norfolk', 'norm', 'normal', 'north', 'northampton', 'northamptonshire', 'northants', 'northern', 'northumberland', 'norwegian', 'norwich', 'note', 'notes', 'notice', 'notified', 'nottingham', 'nottinghamshire', 'nuclear', 'number', 'numbers', 'numeracy', 'numerate', 'numerical', 'numerous', 'nurse', 'nurses', 'nursing', 'nurturing', 'nvq', 'nvqs', 'object', 'objection', 'objective', 'objectives', 'obligations', 'observations', 'observing', 'obsolescence', 'obstacles', 'obtain', 'obtained', 'obtaining', 'occasion', 'occasional', 'occasionally', 'occasions', 'occupancy', 'occupational', 'occur', 'occurs', 'odp', 'oem', 'oems', 'offer', 'offered', 'offering', 'offerings', 'offers', 'office', 'officer', 'officers', 'offices', 'official', 'offshore', 'offsite', 'ohsas', 'oil', 'oilfield', 'older', 'oldham', 'oliver', 'onc', 'oncall', 'oncology', 'oneoff', 'ongoing', 'online', 'onshore', 'onsite', 'ood', 'ooh', 'oop', 'open', 'opened', 'opening', 'openings', 'operate', 'operated', 'operates', 'operating', 'operation', 'operational', 'operations', 'operative', 'operatives', 'operator', 'operators', 'opex', 'opinion', 'opinions', 'opportunities', 'optical', 'optician', 'opticians', 'optics', 'optimal', 'optimisation', 'optimise', 'optimises', 'optimising', 'optimum', 'option', 'optional', 'options', 'optometrist', 'optometrists', 'optometry', 'optometryflamehealth', 'oracle', 'oral', 'orcad', 'order', 'ordering', 'orderly', 'orders', 'org', 'organic', 'organisation', \"organisation's\", 'organisational', 'organisations', 'organise', 'organised', 'organising', 'organization', 'organizational', 'organizing', 'orientated', 'orientation', 'oriented', 'origin', 'original', 'orthopaedic', 'orthopaedics', 'otc', 'ote', 'outbound', 'outcome', 'outcomes', 'outdoor', 'outgoing', 'outlets', 'outline', 'outlined', 'outlook', 'outpatient', 'outpatients', 'output', 'outputs', 'outreach', 'outskirts', 'outsourced', 'outsourcing', 'outstanding', 'overcome', 'overhead', 'overnight', 'overseas', 'oversee', 'overseeing', 'oversight', 'overtime', 'overview', 'overwhelming', 'owned', 'owner', 'owners', 'ownership', 'owns', 'oxford', 'oxfordshire', 'pa', 'pace', 'paced', 'pack', 'package', 'packages', 'packaging', 'packs', 'paddington', 'paediatric', 'page', 'pages', 'paid', 'pallet', 'palliative', 'palsy', 'panel', 'panels', 'paper', 'papers', 'paperwork', 'parameters', 'paramount', 'paraplanner', 'paraplanning', 'parent', 'parking', 'part', 'partial', 'participants', 'participate', 'participating', 'participation', 'parties', 'partner', 'partnering', 'partners', 'partnership', 'partnerships', 'partqualified', 'parts', 'parttime', 'party', 'pass', 'passed', 'passion', 'passionate', 'passionately', 'passport', 'past', 'patch', 'paternity', 'path', 'paths', 'pathway', 'patient', 'patients', 'pattern', 'patterns', 'paul', 'pay', 'payable', 'paye', 'paying', 'payment', 'payments', 'payroll', 'pc', 'pcb', 'pcie', 'pct', 'pearce', 'peer', 'peers', 'penetration', 'penguin', 'pension', 'pensions', 'people', 'peoples', 'perfect', 'perform', 'performance', 'performancerelated', 'performed', 'performer', 'performers', 'performing', 'performs', 'period', 'periodic', 'periods', 'perioperative', 'perm', 'permanent', 'permission', 'permit', 'permits', 'person', 'personable', 'personal', 'personalised', 'personality', 'personally', 'personnel', 'persons', 'perspective', 'perth', 'peterborough', 'petrie', 'petrierecruit', 'petrierecruitment', 'petrochemical', 'petroleum', 'petty', 'ph', 'pharmaceutical', 'pharmaceuticals', 'pharmacies', 'pharmacy', 'phase', 'phases', 'phone', 'photoshop', 'physical', 'physically', 'physicians', 'physio', 'physiotherapy', 'pick', 'pin', 'pioneer', 'pioneering', 'pipe', 'pipeline', 'pitching', 'pivotal', 'pl', 'place', 'placement', 'placements', 'places', 'placing', 'plan', 'planned', 'planner', 'planners', 'planning', 'plans', 'plant', 'plants', 'plastic', 'plastics', 'plate', 'platform', 'platforms', 'play', 'played', 'player', 'players', 'plays', 'plc', 'plcs', 'pleasant', 'pleased', 'plenty', 'plumbing', 'plymouth', 'pm', 'pmi', 'pneumatics', 'point', 'points', 'police', 'policies', 'policy', 'polished', 'polite', 'pool', 'poole', 'popular', 'population', 'portable', 'portal', 'portfolio', 'portfolios', 'portsmouth', 'positioned', 'positioning', 'positions', 'positive', 'positively', 'posses', 'possess', 'possibilities', 'possibility', 'possibly', 'post', 'postcode', 'postgraduate', 'postholder', 'posting', 'postregistration', 'posts', 'potential', 'potentially', 'pound', 'pova', 'power', 'powerful', 'powerpoint', 'ppe', 'ppm', 'pq', 'pqe', 'pr', 'practical', 'practice', 'practices', 'practise', 'practitioner', 'practitioners', 'pre', 'preceptorship', 'precision', 'preclude', 'predominantly', 'predominately', 'preferable', 'preferably', 'preference', 'preferential', 'preferred', 'pregnancy', 'preliminary', 'premises', 'premium', 'prep', 'preparation', 'prepare', 'prepared', 'preparing', 'prepayments', 'preproduction', 'preregistration', 'presales', 'prescribe', 'prescribed', 'prescribing', 'prescription', 'presence', 'present', 'presentable', 'presentation', 'presentations', 'presented', 'presenting', 'press', 'pressure', 'pressured', 'pressurised', 'prestigious', 'preston', 'prevent', 'preventative', 'prevention', 'previous', 'previously', 'price', 'prices', 'pricing', 'pride', 'prides', 'primarily', 'primary', 'prime', 'principal', 'principle', 'principles', 'pringle', 'print', 'printed', 'printers', 'prior', 'priorities', 'prioritisation', 'prioritise', 'prioritised', 'prioritising', 'priority', 'prison', 'privacy', 'private', 'privately', 'pro', 'proactive', 'proactively', 'probability', 'probation', 'problem', 'problems', 'problemsolving', 'procedural', 'procedure', 'procedures', 'proceed', 'proceedings', 'process', 'processed', 'processes', 'processing', 'procure', 'procurement', 'produce', 'produced', 'produces', 'producing', 'product', 'production', 'productivity', 'products', 'proe', 'proengineer', 'profession', 'professional', 'professionalism', 'professionally', 'professionals', 'profibus', 'proficient', 'profile', 'profiles', 'profit', 'profitability', 'profitable', 'profits', 'program', 'programme', 'programmer', 'programmes', 'programming', 'programs', 'progress', 'progressed', 'progression', 'progressive', 'progressiverecruitment', 'project', 'projected', 'projects', 'promises', 'promote', 'promoted', 'promotes', 'promoting', 'promotion', 'promotional', 'promotions', 'prompt', 'promptly', 'proof', 'proper', 'properties', 'property', 'proposal', 'proposals', 'propose', 'proposed', 'proposing', 'proposition', 'propositions', 'propulsion', 'prorata', 'prospect', 'prospecting', 'prospective', 'prospects', 'protect', 'protected', 'protection', 'protocol', 'protocols', 'prototype', 'prototypes', 'proud', 'prove', 'proven', 'provided', 'provider', 'providers', 'providing', 'provision', 'provisions', 'prs', 'psychological', 'public', 'publication', 'publications', 'published', 'publisher', 'publishers', 'publishing', 'pump', 'pumps', 'punctual', 'purchase', 'purchasing', 'pure', 'purpose', 'purposes', 'pursuance', 'pursue', 'push', 'put', 'putting', 'pvg', 'pw', 'python', 'qa', 'qbe', 'qt', 'qualifeid', 'qualification', 'qualifications', 'qualified', 'qualify', 'qualifying', 'qualitative', 'qualities', 'quality', 'quantitative', 'quantities', 'quantity', 'quarter', 'quarterly', 'queries', 'question', 'questioning', 'questionnaire', 'questions', 'quick', 'quickly', 'quotations', 'quote', 'quotes', 'quoting', 'race', 'radio', 'radiology', 'rail', 'railway', 'raise', 'raised', 'raising', 'randstad', 'range', 'ranges', 'ranging', 'rapid', 'rapidly', 'rapport', 'rare', 'rata', 'rate', 'rates', 'rating', 'rdr', 'reablement', 'reach', 'reached', 'reactive', 'read', 'reading', 'ready', 'real', 'realise', 'realised', 'realistic', 'reasonable', 'reasoning', 'reasons', 'reassessing', 'reassignment', 'reassurance', 'rebuild', 'rec', 'receipt', 'receipts', 'receive', 'received', 'receiving', 'recent', 'recently', 'recession', 'recognisable', 'recognise', 'recognised', 'recognising', 'recognition', 'recognized', 'recommend', 'recommendation', 'recommendations', 'recommended', 'recommending', 'reconcile', 'reconciliation', 'reconciliations', 'reconciling', 'record', 'recorded', 'recording', 'records', 'recovery', 'recruit', 'recruiter', 'recruiters', 'recruiting', 'recruits', 'rectification', 'redcar', 'redhill', 'reduce', 'reduced', 'reducing', 'ref', 'refer', 'reference', 'references', 'referral', 'referrals', 'referring', 'reflect', 'reflects', 'refrigeration', 'refurbishment', 'regard', 'regarded', 'regent', 'regime', 'region', 'regional', 'regions', 'regis', 'register', 'registered', 'registering', 'registers', 'registration', 'regret', 'regular', 'regularly', 'regulated', 'regulation', 'regulations', 'regulators', 'regulatory', 'rehabilitation', 'reimbursed', 'reimbursement', 'rejected', 'rejection', 'relate', 'related', 'relating', 'relation', 'relations', 'relationship', 'relationships', 'relatives', 'relax', 'relaxed', 'relay', 'release', 'released', 'relevant', 'reliability', 'reliable', 'religion', 'religious', 'relocate', 'relocation', 'remain', 'remains', 'remedial', 'remediation', 'remember', 'remit', 'remote', 'removed', 'remuneration', 'renewable', 'renewal', 'renewals', 'renowned', 'repair', 'repairing', 'repairs', 'repeat', 'replacement', 'reply', 'report', 'reported', 'reporting', 'reports', 'represent', 'representative', 'representatives', 'represented', 'representing', 'represents', 'reputable', 'reputation', 'request', 'requested', 'requests', 'require', 'requirement', 'requirements', 'requires', 'requiring', 'research', 'researching', 'reseller', 'reservations', 'reservoir', 'residence', 'residences', 'resident', \"resident's\", 'residential', 'residents', 'resilience', 'resilient', 'resolution', 'resolve', 'resolved', 'resolving', 'resource', 'resourcer', 'resources', 'resourcing', 'respect', 'respected', 'respective', 'respite', 'respond', 'responded', 'respondents', 'responding', 'response', 'responses', 'responsibilities', 'responsibility', 'responsible', 'responsive', 'rest', 'restaurant', 'restaurants', 'restoration', 'restriction', 'restrictions', 'restructuring', 'result', 'resulting', 'results', 'resultsdriven', 'retail', 'retailer', 'retailers', 'retails', 'retain', 'retained', 'retaining', 'retention', 'retentions', 'retirement', 'retrieval', 'return', 'returned', 'returns', 'revenue', 'revenues', 'review', 'reviewed', 'reviewing', 'reviews', 'reward', 'rewarded', 'rewarding', 'rewards', 'rework', 'rf', 'rgn', \"rgn's\", 'rgns', 'rhan', 'rich', 'richard', 'richmond', 'rics', 'rights', 'rise', 'rising', 'risk', 'risks', 'rma', 'rmn', \"rmn's\", 'rn', 'rnld', 'road', 'roadmap', 'roads', 'rob', 'robert', 'robotics', 'robust', 'rockwell', 'roi', 'roles', 'rolling', 'romford', 'room', 'rooms', 'root', 'roots', 'rota', \"rota's\", 'rotas', 'rotating', 'rotherham', 'round', 'rounded', 'route', 'routes', 'routine', 'routinely', 'routines', 'royal', 'rscn', 'rsquo', 'rsquos', 'rugby', 'rules', 'run', 'running', 'runs', 'rural', 'ruth', 'safe', 'safeguarding', 'safely', 'safety', 'sage', 'sageline', \"sainsbury's\", 'salaries', 'sale', 'salesforce', 'salesperson', 'salestarget', 'salford', 'salisbury', 'sam', 'sample', 'samples', 'san', 'sanctuary', 'sap', 'sarah', 'satellite', 'satellites', 'satisfaction', 'satisfactory', 'satisfy', 'saturday', 'saturdays', 'saunders', 'save', 'saving', 'savings', 'sb', 'sc', 'scada', 'scale', 'scales', 'scenarios', 'schedule', 'scheduled', 'schedules', 'scheduling', 'schematic', 'schematics', 'scheme', 'schemes', 'school', 'schools', 'science', 'sciences', 'scientific', 'scope', 'scoping', 'scot', 'scotland', 'scott', 'scottish', 'screen', 'screening', 'scrub', 'scrum', 'scunthorpe', 'se', 'sea', 'seamless', 'search', 'searching', 'season', 'seasonal', 'secondary', 'secretarial', 'secretary', 'section', 'sections', 'sector', 'sectors', 'secure', 'secured', 'securing', 'securities', 'security', 'seek', 'seekers', 'seeking', 'seeks', 'segment', 'select', 'selected', 'selection', 'selections', 'selfdriven', 'selfemployed', 'selfmotivated', 'selfmotivation', 'selfstarter', 'sell', 'selling', 'sells', 'semi', 'semiautomated', 'send', 'sending', 'senior', 'sense', 'sensitive', 'sensitivity', 'separate', 'series', 'serve', 'served', 'server', 'servers', 'serves', 'serviced', 'servicing', 'serving', 'sessions', 'set', 'sets', 'setter', 'setting', 'settings', 'settle', 'settlement', 'settling', 'sex', 'sexual', 'sexuality', 'shaping', 'share', 'shared', 'shareholders', 'sharepoint', 'shares', 'sharing', 'sharon', 'sharpen', 'sheer', 'sheet', 'sheets', 'sheffield', 'sheridan', 'shift', 'shifts', 'ship', 'shipments', 'ships', 'shop', 'shopping', 'shops', 'shoreditch', 'short', 'shortlisted', 'show', 'showing', 'shown', 'showroom', 'shows', 'siberia', 'sick', 'sickness', 'side', 'siemens', 'sight', 'sigma', 'sign', 'signal', 'significant', 'significantly', 'signing', 'silos', 'similar', 'simple', 'simply', 'simulation', 'single', 'sister', 'site', 'sites', 'situated', 'situation', 'situations', 'size', 'sized', 'sizes', 'skill', 'skilled', 'skilling', 'sla', 'slas', 'slough', 'sm', 'small', 'smaller', 'smart', 'sme', \"sme's\", 'smith', 'smooth', 'smoothly', 'smt', 'snacks', 'sociable', 'social', 'soft', 'software', 'sold', 'sole', 'solely', 'solicitors', 'solid', 'solidworks', 'solihull', 'solution', 'solutions', 'solve', 'solving', 'somerset', 'sought', 'sound', 'sounds', 'source', 'sources', 'sourcing', 'south', 'southall', 'southampton', 'southern', 'southport', 'sox', 'spa', 'space', 'spacious', 'span', 'spanish', 'spanning', 'spare', 'speak', 'speaker', 'speaking', 'special', 'specialise', 'specialised', 'specialises', 'specialising', 'specialism', 'specialist', 'specialists', 'specialities', 'speciality', 'specialize', 'specialized', 'specializes', 'specializing', 'specialty', 'specific', 'specifically', 'specification', 'specifications', 'specifiers', 'spectrum', 'speech', 'speed', 'spend', 'spent', 'spirit', 'spiritual', 'split', 'spoken', 'sport', 'sports', 'spread', 'spreadsheet', 'spreadsheets', 'sql', 'ssp', 'st', 'stability', 'stable', 'staff', 'staffing', 'staffordshire', 'stage', 'stages', 'stainless', 'stakeholder', 'stakeholders', 'stand', 'standalone', 'standard', 'standards', 'standing', 'stands', 'star', 'start', 'started', 'starter', 'starters', 'starting', 'starts', 'startup', 'state', 'stated', 'statement', 'statements', 'stateoftheart', 'states', 'stating', 'station', 'statistical', 'statistics', 'status', 'statutory', 'stay', 'steam', 'steel', 'step', 'steph', 'stephen', 'stephens', 'stephenspenguinrecruitment', 'steps', 'steve', 'steven', 'stevenage', 'stock', 'stockport', 'stocks', 'stockton', 'stoke', 'storage', 'store', 'stored', 'stores', 'stories', 'story', 'straight', 'straightforward', 'strategic', 'strategically', 'strategies', 'strategy', 'stream', 'street', 'strength', 'strengthen', 'strengthening', 'strengths', 'stress', 'stressful', 'stretching', 'strict', 'strictest', 'strictly', 'strides', 'strive', 'strivens', 'striving', 'stronger', 'strongly', 'structural', 'structure', 'structured', 'structures', 'structuring', 'stuart', 'student', 'students', 'studied', 'studies', 'studio', 'study', 'studying', 'stunning', 'style', 'subcontractors', 'subject', 'submarine', 'submarines', 'submission', 'submissions', 'submit', 'submitted', 'submitting', 'subsea', 'subsequent', 'subsequently', 'subsidiaries', 'subsidiary', 'subsidised', 'substance', 'substantial', 'subsystem', 'succeed', 'success', 'successfully', 'succession', 'sufficient', 'suffolk', 'suggest', 'suit', 'suitability', 'suitable', 'suitably', 'suite', 'suited', 'suites', 'summary', 'sunday', 'sundays', 'sunglasses', 'superb', 'superior', 'supermarkets', 'supervise', 'supervised', 'supervising', 'supervision', 'supervisions', 'supervisor', 'supervisors', 'supervisory', 'supplied', 'supplier', 'suppliers', 'supplies', 'supply', 'supplying', 'supported', 'supporting', 'supportive', 'supports', 'surface', 'surgeons', 'surgery', 'surgical', 'surrey', 'surrounded', 'surrounding', 'surveillance', 'survey', 'surveying', 'surveyor', 'surveyors', 'surveys', 'suspense', 'sussex', 'sustain', 'sustainability', 'sustainable', 'sustaining', 'sutton', 'swansea', 'swift', 'swimming', 'switchgear', 'switching', 'sydney', 'syk', 'synonymous', 'system', 'systems', 'table', 'tackle', 'tact', 'tactical', 'tailored', 'takes', 'taking', 'talent', 'talented', 'talk', 'talking', 'target', 'targetdriven', 'targeted', 'targeting', 'targets', 'task', 'tasked', 'tasks', 'taunton', 'tax', 'tbc', 'tcf', 'tcp', 'teaching', \"team's\", 'teams', 'teamwork', 'teamworking', 'technical', 'technically', 'technician', 'technicians', 'techniques', 'technological', 'technologies', 'technologist', 'technology', 'tees', 'teesside', 'telecom', 'telecommunications', 'telecoms', 'telemarketing', 'telephone', 'telephonebased', 'telesales', 'temp', 'temperature', 'templates', 'temporarily', 'temporary', 'ten', 'tenacious', 'tenacity', 'tender', 'tenders', 'term', 'terminology', 'terms', 'territories', 'territory', 'tesco', 'test', 'tested', 'testing', 'tests', 'thames', 'theale', 'theatre', 'theatres', 'theft', 'theoretical', 'theory', 'therapeutic', 'therapist', 'therapists', 'therapy', 'thermal', 'thetford', 'theuk', 'thier', 'thing', 'things', 'thinking', 'thousands', 'thrive', 'thrives', 'thriving', 'thurs', 'thursday', 'ticket', 'tickets', 'tidy', 'tier', 'tig', 'tight', 'tightly', 'tim', 'time', 'timeframe', 'timelines', 'timely', 'timemanagement', 'times', 'timescale', 'timescales', 'timeserved', 'timetable', 'tinyurl', 'tired', 'title', 'titles', 'today', 'toileting', 'tolerances', 'tom', 'tomorrow', 'tool', 'tooling', 'toolkit', 'toolmaker', 'toolmakers', 'tools', 'top', 'total', 'totaljobs', 'touch', 'tough', 'town', 'tpg', 'tpm', 'track', 'tracking', 'traction', 'trade', 'traders', 'trades', 'trading', 'traditional', 'traffic', 'train', 'trained', 'trainee', 'trainees', 'trainer', 'transaction', 'transactional', 'transactions', 'transferring', 'transfers', 'transformers', 'translate', 'translation', 'transmission', 'transparent', 'transport', 'transportation', 'travel', 'travelling', 'treasury', 'treat', 'treated', 'treating', 'treatment', 'treatments', 'tremendous', 'trend', 'trends', 'trent', 'triage', 'trial', 'trials', 'trip', 'troubleshoot', 'troubleshooting', 'truck', 'true', 'trust', 'trusted', 'trustees', 'trusts', 'trustworthy', 'tuesday', 'turn', 'turnaround', 'turner', 'turning', 'turnover', 'turns', 'tv', 'twelve', 'twenty', 'twentyfour', 'twitter', 'tyne', 'type', 'types', 'typical', 'typically', 'typing', \"uk's\", 'uks', 'ultimate', 'ultimately', 'umbrella', 'uml', 'unable', 'unadvertised', 'unbeatable', 'uncapped', 'undergo', 'undergoing', 'underlying', 'underpin', 'underpinning', 'understand', 'understanding', 'understands', 'understood', 'undertake', 'undertaken', 'undertakes', 'undertaking', 'underwriter', 'underwriters', 'underwriting', 'undressing', 'unexpected', 'uniform', 'unique', 'unit', 'united', 'units', 'universities', 'university', 'unix', 'unlimited', 'unrivalled', 'unsociable', 'unsuccessful', 'unsupervised', 'update', 'updated', 'updates', 'updating', 'upfront', 'upgrade', 'upgrades', 'ups', 'upsell', 'upto', 'uptodate', 'urgent', 'urgently', 'url', 'usa', 'user', 'users', 'utilisation', 'utilise', 'utilising', 'utilities', 'utility', 'uxbridge', 'vac', 'vacancies', 'vacancy', 'vacuum', 'valid', 'validate', 'validated', 'validation', 'valley', 'valuable', 'valuation', 'valuations', 'valued', 'values', 'valves', 'van', 'var', 'variable', 'variance', 'variances', 'variations', 'varied', 'variety', 'vary', 'varying', 'vascular', 'vast', 'vat', 'vb', 'vba', 've', 'vehicle', 'vehicles', 'vending', 'vendor', 'vendors', 'ventilation', 'venture', 'ventures', 'verbal', 'verbally', 'verification', 'verified', 'verify', 'verilog', 'versatile', 'versed', 'vertical', 'vertu', 'vessels', 'vhdl', 'vibrant', 'vicarage', 'victorian', 'video', 'view', 'views', 'village', 'virtual', 'visa', 'visas', 'visible', 'visio', 'vision', 'visit', 'visiting', 'visitors', 'visits', 'visual', 'vital', 'vitally', 'voice', 'voltage', 'volume', 'volumes', 'volunteers', 'voucher', 'vouchers', 'vulnerable', 'wage', 'wakefield', 'wales', 'walk', 'wall', 'wallace', 'wallacehind', 'wallis', 'wanted', 'wanting', 'ward', 'warehouse', 'warehousing', 'warm', 'warmly', 'warmth', 'warning', 'warranty', 'warrington', 'warships', 'wash', 'washing', 'waste', 'wastewater', 'water', 'waterlooville', 'watford', 'ways', 'wcf', 'wealth', 'wear', 'web', 'website', 'wednesday', 'week', 'weekdays', 'weekend', 'weekends', 'weekly', 'weeks', 'weighting', 'welcomes', 'welcoming', 'weld', 'welder', 'welders', 'welding', 'welfare', 'wellbeing', 'wellestablished', 'wellingborough', 'wellknown', 'wellness', 'west', 'western', 'westminster', 'westonsupermare', 'weymouth', 'whilst', 'white', 'whiteley', 'wholesale', 'wholesalers', 'wide', 'widely', 'wider', 'wigan', 'willingness', 'wiltshire', 'win', 'winchester', 'wind', 'windows', 'windsor', 'wine', 'winning', 'wins', 'wip', 'wireless', 'wiring', 'wishes', 'woking', 'wokingham', 'wolverhampton', 'women', 'won', 'worcestershire', 'word', 'wording', 'words', 'workable', 'worked', 'worker', 'workers', 'workflow', 'workforce', 'workload', 'workloads', 'workmanship', 'workplace', 'works', 'workshop', 'workshops', 'world', \"world's\", 'worldclass', 'worlds', 'worldwide', 'worry', 'worth', 'worthing', 'wound', 'wright', 'write', 'writing', 'written', 'wte', 'xml', 'xray', 'year', 'yearend', 'yearonyear', 'years', 'yeovil', 'yn', 'york', 'yorkshire', 'young', 'younger', 'yrs', 'zest']\n"
     ]
    }
   ],
   "source": [
    "with open('vocabulary.txt') as file:\n",
    "    new = file.read().splitlines()\n",
    "print(new)"
   ]
  },
  {
   "cell_type": "code",
   "execution_count": 39,
   "metadata": {},
   "outputs": [
    {
     "name": "stdout",
     "output_type": "stream",
     "text": [
      "Accuracy:  0.8599221789883269\n"
     ]
    }
   ],
   "source": [
    "print(\"Accuracy: \", model.score(X_test, y_test))"
   ]
  },
  {
   "cell_type": "code",
   "execution_count": 41,
   "metadata": {},
   "outputs": [],
   "source": [
    "descFT = FastText.load(\"models\\desc_FT.model\")\n",
    "descFT_wv= descFT.wv"
   ]
  },
  {
   "cell_type": "code",
   "execution_count": 42,
   "metadata": {},
   "outputs": [],
   "source": [
    "def descTokenizer(text):\n",
    "    text = text.lower() # convert to lower case\n",
    "    pattern = r\"[a-zA-Z]+(?:[-'][a-zA-Z]+)?\" # matches all words, including words with hyphens in between\n",
    "    tokenizer = nltk.RegexpTokenizer(pattern) \n",
    "    tokenised_job = tokenizer.tokenize(text) # tokenises the input text data\n",
    "    return tokenised_job"
   ]
  },
  {
   "cell_type": "code",
   "execution_count": 43,
   "metadata": {},
   "outputs": [],
   "source": [
    "pkl_filename = \"models\\descFT_LR.pkl\"\n",
    "with open(pkl_filename, 'rb') as file:\n",
    "    ftmodel = pickle.load(file)\n",
    "\n",
    "# Predict the label of tokenized_data"
   ]
  },
  {
   "cell_type": "code",
   "execution_count": 52,
   "metadata": {},
   "outputs": [
    {
     "name": "stdout",
     "output_type": "stream",
     "text": [
      "FastText<vocab=2741, vector_size=200, alpha=0.025>\n"
     ]
    }
   ],
   "source": [
    "print(descFT)"
   ]
  },
  {
   "cell_type": "code",
   "execution_count": 54,
   "metadata": {},
   "outputs": [],
   "source": [
    "def gen_docVecs(wv,tk_txts): # generate vector representation for documents\n",
    "    docs_vectors = pd.DataFrame() # creating empty final dataframe\n",
    "    #stopwords = nltk.corpus.stopwords.words('english') # if we haven't pre-processed the articles, it's a good idea to remove stop words\n",
    "\n",
    "    for i in range(0,len(tk_txts)):\n",
    "        tokens = tk_txts[i]\n",
    "        temp = pd.DataFrame()  # creating a temporary dataframe(store value for 1st doc & for 2nd doc remove the details of 1st & proced through 2nd and so on..)\n",
    "        for w_ind in range(0, len(tokens)): # looping through each word of a single document and spliting through space\n",
    "            try:\n",
    "                word = tokens[w_ind]\n",
    "                word_vec = wv[word] # if word is present in embeddings(goole provides weights associate with words(300)) then proceed\n",
    "                temp = temp.append(pd.Series(word_vec), ignore_index = True) # if word is present then append it to temporary dataframe\n",
    "            except:\n",
    "                pass\n",
    "        doc_vector = temp.sum() # take the sum of each column\n",
    "        docs_vectors = docs_vectors.append(doc_vector, ignore_index = True) # append each document value to the final dataframe\n",
    "    return docs_vectors"
   ]
  },
  {
   "cell_type": "code",
   "execution_count": 97,
   "metadata": {},
   "outputs": [
    {
     "name": "stdout",
     "output_type": "stream",
     "text": [
      "Accuracy:  0.35797665369649806\n",
      "Weighted In-house FastText: tSNE 2 dimensional projected Feature space\n"
     ]
    },
    {
     "data": {
      "image/png": "[encoded data removed]",
      "text/plain": [
       "<Figure size 432x288 with 1 Axes>"
      ]
     },
     "metadata": {
      "needs_background": "light"
     },
     "output_type": "display_data"
    }
   ],
   "source": [
    "# weighted_docvecs = gen_docVecs(descFT_wv,tokenised_jobs)\n",
    "\n",
    "X_train, X_test, y_train, y_test,train_indices,test_indices = train_test_split(weighted_docvecs, labels, list(range(0,len(labels))),test_size=0.33, random_state=seed)\n",
    "print(\"Accuracy: \", ftmodel.score(X_test, y_test))\n",
    "\n",
    "features = weighted_docvecs.to_numpy() # convert the dataframe stored features to an numpy array\n",
    "print(\"Weighted In-house FastText: tSNE 2 dimensional projected Feature space\")\n",
    "plotTSNE(labels,features)\n",
    "y_pred = ftmodel.predict(X_test)"
   ]
  },
  {
   "cell_type": "code",
   "execution_count": 102,
   "metadata": {},
   "outputs": [
    {
     "data": {
      "text/plain": [
       "'Accounting_Finance'"
      ]
     },
     "execution_count": 102,
     "metadata": {},
     "output_type": "execute_result"
    }
   ],
   "source": [
    "descFT_dvs = gen_docVecs(descFT_wv, descTokenizer(des))\n",
    "y_pred = ftmodel.predict(descFT_dvs)\n",
    "y_pred = y_pred[0]\n",
    "y_pred"
   ]
  },
  {
   "cell_type": "code",
   "execution_count": 45,
   "metadata": {},
   "outputs": [
    {
     "data": {
      "text/plain": [
       "Text(0.5, 15.0, 'Predicted')"
      ]
     },
     "execution_count": 45,
     "metadata": {},
     "output_type": "execute_result"
    },
    {
     "data": {
      "image/png": "[encoded data removed]",
      "text/plain": [
       "<Figure size 432x288 with 2 Axes>"
      ]
     },
     "metadata": {
      "needs_background": "light"
     },
     "output_type": "display_data"
    }
   ],
   "source": [
    "pickled_model = pickle.load(open('model.pkl', 'rb'))\n",
    "y_pred = pickled_model.predict(X_test) # Stores the predicted values\n",
    "\n",
    "conf_mat = confusion_matrix(y_test, y_pred)\n",
    "categories = sorted(list(set(labels))) # this gives sorted set of unique label names\n",
    "\n",
    "sns.heatmap(conf_mat, annot=True, fmt='d',\n",
    "            xticklabels=categories, yticklabels=categories) # creates a heatmap from the confusion matrix\n",
    "plt.ylabel('Actual')\n",
    "plt.xlabel('Predicted')"
   ]
  },
  {
   "cell_type": "markdown",
   "metadata": {},
   "source": [
    "### Here we fit the weighted document vector and plot the results"
   ]
  },
  {
   "cell_type": "code",
   "execution_count": 48,
   "metadata": {},
   "outputs": [],
   "source": [
    "def plotTSNE(labels,features): # features as a numpy array, each element of the array is the document embedding of an article\n",
    "    categories = sorted(list(set(labels)))\n",
    "    # Sampling a subset of our dataset because t-SNE is computationally expensive\n",
    "    SAMPLE_SIZE = int(len(features) * 0.3)\n",
    "    np.random.seed(0)\n",
    "    indices = np.random.choice(range(len(features)), size=SAMPLE_SIZE, replace=False)\n",
    "    projected_features = TSNE(n_components=2, random_state=0).fit_transform(features[indices])\n",
    "    colors = ['pink', 'green', 'midnightblue', 'orange']\n",
    "    for i in range(0,len(categories)):\n",
    "        points = projected_features[(labels[indices] == categories[i])]\n",
    "        plt.scatter(points[:, 0], points[:, 1], s=30, c=colors[i], label=categories[i])\n",
    "    plt.title(\"Feature vector for each job description, projected on 2 dimensions.\",\n",
    "              fontdict=dict(fontsize=15))\n",
    "    plt.legend()\n",
    "    plt.show()"
   ]
  },
  {
   "cell_type": "code",
   "execution_count": null,
   "metadata": {},
   "outputs": [],
   "source": [
    "features = weighted_docvecs.to_numpy() # convert the dataframe stored features to an numpy array\n",
    "print(\"Weighted In-house FastText: tSNE 2 dimensional projected Feature space\")\n",
    "plotTSNE(labels,features)\n",
    "\n",
    "# creating training and test split\n",
    "X_train, X_test, y_train, y_test,train_indices,test_indices = train_test_split(weighted_docvecs, labels, list(range(0,len(labels))),test_size=0.33, random_state=seed)\n",
    "\n",
    "model = LogisticRegression(max_iter = 2000,random_state=seed)\n",
    "model.fit(X_train, y_train)\n",
    "print(\"Accuracy: \", model.score(X_test, y_test))\n",
    "print('\\n\\n')"
   ]
  },
  {
   "cell_type": "markdown",
   "metadata": {},
   "source": [
    "### Here we fit the unweighted document vector and plot the results\n"
   ]
  },
  {
   "cell_type": "code",
   "execution_count": null,
   "metadata": {},
   "outputs": [],
   "source": [
    "features = unweighted_docvecs.to_numpy() # convert the dataframe stored features to an numpy array\n",
    "print(\"Unweighted In-house FastText: tSNE 2 dimensional projected Feature space\")\n",
    "plotTSNE(labels,features)\n",
    "X_train, X_test, y_train, y_test,train_indices,test_indices = train_test_split(unweighted_docvecs, labels, list(range(0,len(labels))),test_size=0.33, random_state=seed)\n",
    "\n",
    "model = LogisticRegression(max_iter = 2000,random_state=seed)\n",
    "model.fit(X_train, y_train)\n",
    "print(\"Accuracy: \", model.score(X_test, y_test))\n",
    "print('\\n\\n')"
   ]
  },
  {
   "cell_type": "markdown",
   "metadata": {},
   "source": [
    "### Implementing 5 K-folds validation"
   ]
  },
  {
   "cell_type": "code",
   "execution_count": null,
   "metadata": {},
   "outputs": [],
   "source": [
    "kf = KFold(n_splits=5) # specifies number of splits, to generate sample indices\n",
    "def perf_kfolds(wv,labels,count=False):\n",
    "    average = 0 # Stores average score\n",
    "    for train_index, test_index in kf.split(wv):\n",
    "#         print(train_index)\n",
    "        if count:\n",
    "            X_train, X_test = wv[train_index], wv[test_index] # Count vector data is in array format rather than dataframe\n",
    "        else:\n",
    "            X_train, X_test = wv.iloc[train_index], wv.iloc[test_index]\n",
    "        y_train, y_test = labels[train_index], labels[test_index]\n",
    "        model = LogisticRegression(max_iter = 2000,random_state=seed)\n",
    "        model.fit(X_train, y_train)\n",
    "        average += model.score(X_test, y_test)\n",
    "        print(\"Accuracy: \", model.score(X_test, y_test))\n",
    "    print('Average:',average/5)"
   ]
  },
  {
   "cell_type": "markdown",
   "metadata": {},
   "source": [
    "Here is the weighted TF-IDF k-folds validation:"
   ]
  },
  {
   "cell_type": "code",
   "execution_count": null,
   "metadata": {},
   "outputs": [],
   "source": [
    "perf_kfolds(weighted_docvecs,labels)"
   ]
  },
  {
   "cell_type": "markdown",
   "metadata": {},
   "source": [
    "Here is the weighted unweighted k-folds validation:"
   ]
  },
  {
   "cell_type": "code",
   "execution_count": null,
   "metadata": {},
   "outputs": [],
   "source": [
    "perf_kfolds(unweighted_docvecs,labels)"
   ]
  },
  {
   "cell_type": "markdown",
   "metadata": {},
   "source": [
    "Here is the count-based k-folds validation:"
   ]
  },
  {
   "cell_type": "code",
   "execution_count": null,
   "metadata": {},
   "outputs": [],
   "source": [
    "perf_kfolds(count_matrix,labels,True)"
   ]
  },
  {
   "cell_type": "markdown",
   "metadata": {},
   "source": [
    "## Using the title column and measuring performance\n",
    "We will see if the title feature of all jobs improve the logistic regressor model performance."
   ]
  },
  {
   "cell_type": "code",
   "execution_count": null,
   "metadata": {},
   "outputs": [],
   "source": [
    "def descTokenizer(text): # bring method from task 1 for tokenisation\n",
    "    text = text.lower() # convert to lower case\n",
    "    pattern = r\"[a-zA-Z]+(?:[-'][a-zA-Z]+)?\" # matches all words, including words with hyphens in between\n",
    "    tokenizer = nltk.RegexpTokenizer(pattern) \n",
    "    tokenised_job = tokenizer.tokenize(text) # tokenises the input text data\n",
    "    return tokenised_job\n",
    "tokenised_titles = [descTokenizer(title) for title in titles]"
   ]
  },
  {
   "cell_type": "code",
   "execution_count": null,
   "metadata": {},
   "outputs": [],
   "source": [
    "twords = list(chain.from_iterable(tokenised_titles)) # use chain to flatten or put all the tokens in the corpus in a single list\n",
    "tvocab = set(twords) # We create a voccabulary from the tokenised jobs, "
   ]
  },
  {
   "cell_type": "markdown",
   "metadata": {},
   "source": [
    "Here we initalize a new TF-IDF vector for titles:"
   ]
  },
  {
   "cell_type": "code",
   "execution_count": null,
   "metadata": {},
   "outputs": [],
   "source": [
    "title_tfidf_vectorizer = TfidfVectorizer(vocabulary = tvocab) # initialise the TfidfVectorizer\n",
    "title_matrix = tfidf_vectorizer.fit_transform([' '.join(desc) for desc in tokenised_jobs])"
   ]
  },
  {
   "cell_type": "markdown",
   "metadata": {},
   "source": [
    "### Q1: It seems the normal counts vectoriser is the best model, rather than the word-embedding models."
   ]
  },
  {
   "cell_type": "markdown",
   "metadata": {},
   "source": [
    "### Saving outputs\n",
    "Save the count vector representation as per spectification.\n",
    "- count_vectors.txt"
   ]
  },
  {
   "cell_type": "code",
   "execution_count": null,
   "metadata": {},
   "outputs": [],
   "source": [
    "count_df"
   ]
  },
  {
   "cell_type": "code",
   "execution_count": null,
   "metadata": {},
   "outputs": [],
   "source": [
    "# code to save output data...\n",
    "with open('count_vectors.txt','w') as f:\n",
    "    for i in range(len(wid)):\n",
    "        f.write('#' + str(wid[i])+',')\n",
    "        for ind,row in count_df.iterrows():\n",
    "            f.write(str(row[i])+':'+ind)\n",
    "        f.write('\\n')"
   ]
  },
  {
   "cell_type": "markdown",
   "metadata": {},
   "source": [
    "## Summary\n",
    "Unfortunately, I scored a very low accuracy score for the weighted TF-IDF word embedding model, of 54%. One potential reason is that when using the gen_docVecs() method, as it was retrieving the words from the FastText object, it was not recognising words from the tokenised_words vocabulary. Although this could be an intentional effect of the object."
   ]
  },
  {
   "cell_type": "markdown",
   "metadata": {},
   "source": [
    "## Couple of notes for all code blocks in this notebook\n",
    "- please provide proper comment on your code\n",
    "- Please re-start and run all cells to make sure codes are runable and include your output in the submission.   \n",
    "<span style=\"color: red\"> This markdown block can be removed once the task is completed. </span>"
   ]
  }
 ],
 "metadata": {
  "kernelspec": {
   "display_name": "Python 3",
   "language": "python",
   "name": "python3"
  },
  "language_info": {
   "codemirror_mode": {
    "name": "ipython",
    "version": 3
   },
   "file_extension": ".py",
   "mimetype": "text/x-python",
   "name": "python",
   "nbconvert_exporter": "python",
   "pygments_lexer": "ipython3",
   "version": "3.8.5"
  }
 },
 "nbformat": 4,
 "nbformat_minor": 1
}
